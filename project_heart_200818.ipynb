{
 "cells": [
  {
   "cell_type": "markdown",
   "metadata": {},
   "source": [
    "# Project: Machine Learning to Predict Probability of a Heart Disease"
   ]
  },
  {
   "cell_type": "markdown",
   "metadata": {},
   "source": [
    "### About this notebook"
   ]
  },
  {
   "cell_type": "markdown",
   "metadata": {},
   "source": [
    "This notebook is being split in a few sections. There are:-\n",
    "* Introduction\n",
    "* Data Information\n",
    "* Data pre-processed\n",
    "* Training\n",
    "* Results Compilations\n",
    "* Conclusion"
   ]
  },
  {
   "cell_type": "markdown",
   "metadata": {},
   "source": [
    "## Introduction"
   ]
  },
  {
   "cell_type": "markdown",
   "metadata": {},
   "source": [
    "Heart disease is not just the number one cause of death in Malaysia, it was also the number one cause of death worldwide. It affects both male and female. Everyone knows someone who had a heart issue. Lots of research had been invested into the possible causes of a heart disease. Machine learning could contribute in helping to reduce this number one killer. \n",
    "\n",
    "Drivendata has hosted a competition in predicting heart disease using Machine Learning. Participant has to submit a submission file and they will be rated based on the submissions. [drivendata Machine Learning Competition](https://www.drivendata.org/competitions/54/machine-learning-with-a-heart/page/107/)\n",
    "\n",
    "This project will take the dataset, train them using machine learning algorithm and predict the probability of a patient having a heart disease. A label has been given in the dataset:-\n",
    "* 0: Heart disease is not present\n",
    "* 1: Heart disease present"
   ]
  },
  {
   "cell_type": "code",
   "execution_count": 134,
   "metadata": {
    "collapsed": true
   },
   "outputs": [],
   "source": [
    "#import the modules that will be used\n",
    "\n",
    "%matplotlib inline\n",
    "\n",
    "import warnings\n",
    "from pathlib import Path\n",
    "\n",
    "import numpy as np\n",
    "import pandas as pd\n",
    "\n",
    "import matplotlib.pyplot as plt\n",
    "import seaborn as sns\n",
    "\n"
   ]
  },
  {
   "cell_type": "code",
   "execution_count": 135,
   "metadata": {
    "collapsed": true
   },
   "outputs": [],
   "source": [
    "# filter the warnings to show only once\n",
    "\n",
    "warnings.filterwarnings('ignore')"
   ]
  },
  {
   "cell_type": "code",
   "execution_count": 136,
   "metadata": {
    "collapsed": true
   },
   "outputs": [],
   "source": [
    "#import the data\n",
    "\n",
    "# for training our model\n",
    "train_values = pd.read_csv('train_values.csv', index_col='patient_id')\n",
    "train_labels = pd.read_csv('train_labels.csv', index_col='patient_id')\n",
    "\n",
    "#for testing the model\n",
    "test_values = pd.read_csv('test_values.csv', index_col='patient_id')"
   ]
  },
  {
   "cell_type": "markdown",
   "metadata": {},
   "source": [
    "## Data Information"
   ]
  },
  {
   "cell_type": "markdown",
   "metadata": {},
   "source": [
    "This dataset is provided courtesy of Cleveland Heart Disease Database from a competition organised by drivendata. The dataset collects various measurements on health and cardiovascular statistics. Patient's identities are anonymous. \n",
    "\n",
    "Dataset downnload: [drivendata](https://www.drivendata.org/competitions/54/machine-learning-with-a-heart/page/107/)\n",
    "\n",
    "The train_values dataset is the data that will be used for training. The train_labels are its identifier (whether a patient has a heart disease or not). Once the final model has been chosen, it will then be tester on test_values dataset."
   ]
  },
  {
   "cell_type": "code",
   "execution_count": 137,
   "metadata": {},
   "outputs": [
    {
     "data": {
      "text/plain": [
       "180"
      ]
     },
     "execution_count": 137,
     "metadata": {},
     "output_type": "execute_result"
    }
   ],
   "source": [
    "# Check for training data length\n",
    "\n",
    "len(train_values)"
   ]
  },
  {
   "cell_type": "code",
   "execution_count": 138,
   "metadata": {},
   "outputs": [
    {
     "data": {
      "text/plain": [
       "90"
      ]
     },
     "execution_count": 138,
     "metadata": {},
     "output_type": "execute_result"
    }
   ],
   "source": [
    "# Check for testing data length\n",
    "\n",
    "len (test_values)"
   ]
  },
  {
   "cell_type": "markdown",
   "metadata": {},
   "source": [
    "The dataset has been split into training data and test data. Training data has 180 values, while the test data has 90 values. There are 14 columns in the training dataset, where patient_id serves as an identifier. Below are the attributes information  and type of the remaining 13 columns. \n",
    "\n",
    "From: [drivendata](https://www.drivendata.org/competitions/54/machine-learning-with-a-heart/page/109/)\n",
    "\n",
    "Attribute Information: \n",
    "------------------------ \n",
    "1. slope_of_peak_exercise_st_segment (type: int): the slope of the peak exercise ST segment, an electrocardiography read out indicating quality of blood flow to the heart\n",
    "2. thal (type: categorical): results of thallium stress test measuring blood flow to the heart, with possible values normal, fixed_defect, reversible_defect\n",
    "3. resting_blood_pressure (type: int): resting blood pressure\n",
    "4. chest_pain_type (type: int): chest pain type (4 values)\n",
    "5. num_major_vessels (type: int): number of major vessels (0-3) colored by flourosopy\n",
    "6. fasting_blood_sugar_gt_120_mg_per_dl (type: binary): fasting blood sugar > 120 mg/dl\n",
    "7. resting_ekg_results (type: int): resting electrocardiographic results (values 0,1,2)\n",
    "8. serum_cholesterol_mg_per_dl (type: int): serum cholestoral in mg/dl\n",
    "9. oldpeak_eq_st_depression (type: float): oldpeak = ST depression induced by exercise relative to rest, a measure of abnormality in electrocardiograms\n",
    "10. sex (type: binary): 0: female, 1: male\n",
    "11. age (type: int): age in years\n",
    "12. max_heart_rate_achieved (type: int): maximum heart rate achieved (beats per minute)\n",
    "13. exercise_induced_angina (type: binary): exercise-induced chest pain (0: False, 1: True)\n",
    "\n",
    "--*labels: 1: Heart disease present. 0: Heart disease is not present\n",
    "There are no missing values in this dataset. "
   ]
  },
  {
   "cell_type": "code",
   "execution_count": 139,
   "metadata": {},
   "outputs": [
    {
     "data": {
      "text/html": [
       "<div>\n",
       "<style>\n",
       "    .dataframe thead tr:only-child th {\n",
       "        text-align: right;\n",
       "    }\n",
       "\n",
       "    .dataframe thead th {\n",
       "        text-align: left;\n",
       "    }\n",
       "\n",
       "    .dataframe tbody tr th {\n",
       "        vertical-align: top;\n",
       "    }\n",
       "</style>\n",
       "<table border=\"1\" class=\"dataframe\">\n",
       "  <thead>\n",
       "    <tr style=\"text-align: right;\">\n",
       "      <th></th>\n",
       "      <th>slope_of_peak_exercise_st_segment</th>\n",
       "      <th>resting_blood_pressure</th>\n",
       "      <th>chest_pain_type</th>\n",
       "      <th>num_major_vessels</th>\n",
       "      <th>fasting_blood_sugar_gt_120_mg_per_dl</th>\n",
       "      <th>resting_ekg_results</th>\n",
       "      <th>serum_cholesterol_mg_per_dl</th>\n",
       "      <th>oldpeak_eq_st_depression</th>\n",
       "      <th>sex</th>\n",
       "      <th>age</th>\n",
       "      <th>max_heart_rate_achieved</th>\n",
       "      <th>exercise_induced_angina</th>\n",
       "    </tr>\n",
       "  </thead>\n",
       "  <tbody>\n",
       "    <tr>\n",
       "      <th>count</th>\n",
       "      <td>180.000000</td>\n",
       "      <td>180.000000</td>\n",
       "      <td>180.000000</td>\n",
       "      <td>180.000000</td>\n",
       "      <td>180.000000</td>\n",
       "      <td>180.000000</td>\n",
       "      <td>180.000000</td>\n",
       "      <td>180.000000</td>\n",
       "      <td>180.000000</td>\n",
       "      <td>180.000000</td>\n",
       "      <td>180.000000</td>\n",
       "      <td>180.000000</td>\n",
       "    </tr>\n",
       "    <tr>\n",
       "      <th>mean</th>\n",
       "      <td>1.550000</td>\n",
       "      <td>131.311111</td>\n",
       "      <td>3.155556</td>\n",
       "      <td>0.694444</td>\n",
       "      <td>0.161111</td>\n",
       "      <td>1.050000</td>\n",
       "      <td>249.211111</td>\n",
       "      <td>1.010000</td>\n",
       "      <td>0.688889</td>\n",
       "      <td>54.811111</td>\n",
       "      <td>149.483333</td>\n",
       "      <td>0.316667</td>\n",
       "    </tr>\n",
       "    <tr>\n",
       "      <th>std</th>\n",
       "      <td>0.618838</td>\n",
       "      <td>17.010443</td>\n",
       "      <td>0.938454</td>\n",
       "      <td>0.969347</td>\n",
       "      <td>0.368659</td>\n",
       "      <td>0.998742</td>\n",
       "      <td>52.717969</td>\n",
       "      <td>1.121357</td>\n",
       "      <td>0.464239</td>\n",
       "      <td>9.334737</td>\n",
       "      <td>22.063513</td>\n",
       "      <td>0.466474</td>\n",
       "    </tr>\n",
       "    <tr>\n",
       "      <th>min</th>\n",
       "      <td>1.000000</td>\n",
       "      <td>94.000000</td>\n",
       "      <td>1.000000</td>\n",
       "      <td>0.000000</td>\n",
       "      <td>0.000000</td>\n",
       "      <td>0.000000</td>\n",
       "      <td>126.000000</td>\n",
       "      <td>0.000000</td>\n",
       "      <td>0.000000</td>\n",
       "      <td>29.000000</td>\n",
       "      <td>96.000000</td>\n",
       "      <td>0.000000</td>\n",
       "    </tr>\n",
       "    <tr>\n",
       "      <th>25%</th>\n",
       "      <td>1.000000</td>\n",
       "      <td>120.000000</td>\n",
       "      <td>3.000000</td>\n",
       "      <td>0.000000</td>\n",
       "      <td>0.000000</td>\n",
       "      <td>0.000000</td>\n",
       "      <td>213.750000</td>\n",
       "      <td>0.000000</td>\n",
       "      <td>0.000000</td>\n",
       "      <td>48.000000</td>\n",
       "      <td>132.000000</td>\n",
       "      <td>0.000000</td>\n",
       "    </tr>\n",
       "    <tr>\n",
       "      <th>50%</th>\n",
       "      <td>1.000000</td>\n",
       "      <td>130.000000</td>\n",
       "      <td>3.000000</td>\n",
       "      <td>0.000000</td>\n",
       "      <td>0.000000</td>\n",
       "      <td>2.000000</td>\n",
       "      <td>245.500000</td>\n",
       "      <td>0.800000</td>\n",
       "      <td>1.000000</td>\n",
       "      <td>55.000000</td>\n",
       "      <td>152.000000</td>\n",
       "      <td>0.000000</td>\n",
       "    </tr>\n",
       "    <tr>\n",
       "      <th>75%</th>\n",
       "      <td>2.000000</td>\n",
       "      <td>140.000000</td>\n",
       "      <td>4.000000</td>\n",
       "      <td>1.000000</td>\n",
       "      <td>0.000000</td>\n",
       "      <td>2.000000</td>\n",
       "      <td>281.250000</td>\n",
       "      <td>1.600000</td>\n",
       "      <td>1.000000</td>\n",
       "      <td>62.000000</td>\n",
       "      <td>166.250000</td>\n",
       "      <td>1.000000</td>\n",
       "    </tr>\n",
       "    <tr>\n",
       "      <th>max</th>\n",
       "      <td>3.000000</td>\n",
       "      <td>180.000000</td>\n",
       "      <td>4.000000</td>\n",
       "      <td>3.000000</td>\n",
       "      <td>1.000000</td>\n",
       "      <td>2.000000</td>\n",
       "      <td>564.000000</td>\n",
       "      <td>6.200000</td>\n",
       "      <td>1.000000</td>\n",
       "      <td>77.000000</td>\n",
       "      <td>202.000000</td>\n",
       "      <td>1.000000</td>\n",
       "    </tr>\n",
       "  </tbody>\n",
       "</table>\n",
       "</div>"
      ],
      "text/plain": [
       "       slope_of_peak_exercise_st_segment  resting_blood_pressure  \\\n",
       "count                         180.000000              180.000000   \n",
       "mean                            1.550000              131.311111   \n",
       "std                             0.618838               17.010443   \n",
       "min                             1.000000               94.000000   \n",
       "25%                             1.000000              120.000000   \n",
       "50%                             1.000000              130.000000   \n",
       "75%                             2.000000              140.000000   \n",
       "max                             3.000000              180.000000   \n",
       "\n",
       "       chest_pain_type  num_major_vessels  \\\n",
       "count       180.000000         180.000000   \n",
       "mean          3.155556           0.694444   \n",
       "std           0.938454           0.969347   \n",
       "min           1.000000           0.000000   \n",
       "25%           3.000000           0.000000   \n",
       "50%           3.000000           0.000000   \n",
       "75%           4.000000           1.000000   \n",
       "max           4.000000           3.000000   \n",
       "\n",
       "       fasting_blood_sugar_gt_120_mg_per_dl  resting_ekg_results  \\\n",
       "count                            180.000000           180.000000   \n",
       "mean                               0.161111             1.050000   \n",
       "std                                0.368659             0.998742   \n",
       "min                                0.000000             0.000000   \n",
       "25%                                0.000000             0.000000   \n",
       "50%                                0.000000             2.000000   \n",
       "75%                                0.000000             2.000000   \n",
       "max                                1.000000             2.000000   \n",
       "\n",
       "       serum_cholesterol_mg_per_dl  oldpeak_eq_st_depression         sex  \\\n",
       "count                   180.000000                180.000000  180.000000   \n",
       "mean                    249.211111                  1.010000    0.688889   \n",
       "std                      52.717969                  1.121357    0.464239   \n",
       "min                     126.000000                  0.000000    0.000000   \n",
       "25%                     213.750000                  0.000000    0.000000   \n",
       "50%                     245.500000                  0.800000    1.000000   \n",
       "75%                     281.250000                  1.600000    1.000000   \n",
       "max                     564.000000                  6.200000    1.000000   \n",
       "\n",
       "              age  max_heart_rate_achieved  exercise_induced_angina  \n",
       "count  180.000000               180.000000               180.000000  \n",
       "mean    54.811111               149.483333                 0.316667  \n",
       "std      9.334737                22.063513                 0.466474  \n",
       "min     29.000000                96.000000                 0.000000  \n",
       "25%     48.000000               132.000000                 0.000000  \n",
       "50%     55.000000               152.000000                 0.000000  \n",
       "75%     62.000000               166.250000                 1.000000  \n",
       "max     77.000000               202.000000                 1.000000  "
      ]
     },
     "metadata": {},
     "output_type": "display_data"
    }
   ],
   "source": [
    "#Describe the data\n",
    "\n",
    "display(train_values.describe())"
   ]
  },
  {
   "cell_type": "markdown",
   "metadata": {},
   "source": [
    "The maximum value for serum_cholesterol_mg_per_dl is 564.000000. We will extract this particular information"
   ]
  },
  {
   "cell_type": "code",
   "execution_count": 140,
   "metadata": {},
   "outputs": [
    {
     "data": {
      "text/html": [
       "<div>\n",
       "<style>\n",
       "    .dataframe thead tr:only-child th {\n",
       "        text-align: right;\n",
       "    }\n",
       "\n",
       "    .dataframe thead th {\n",
       "        text-align: left;\n",
       "    }\n",
       "\n",
       "    .dataframe tbody tr th {\n",
       "        vertical-align: top;\n",
       "    }\n",
       "</style>\n",
       "<table border=\"1\" class=\"dataframe\">\n",
       "  <thead>\n",
       "    <tr style=\"text-align: right;\">\n",
       "      <th></th>\n",
       "      <th>slope_of_peak_exercise_st_segment</th>\n",
       "      <th>thal</th>\n",
       "      <th>resting_blood_pressure</th>\n",
       "      <th>chest_pain_type</th>\n",
       "      <th>num_major_vessels</th>\n",
       "      <th>fasting_blood_sugar_gt_120_mg_per_dl</th>\n",
       "      <th>resting_ekg_results</th>\n",
       "      <th>serum_cholesterol_mg_per_dl</th>\n",
       "      <th>oldpeak_eq_st_depression</th>\n",
       "      <th>sex</th>\n",
       "      <th>age</th>\n",
       "      <th>max_heart_rate_achieved</th>\n",
       "      <th>exercise_induced_angina</th>\n",
       "    </tr>\n",
       "    <tr>\n",
       "      <th>patient_id</th>\n",
       "      <th></th>\n",
       "      <th></th>\n",
       "      <th></th>\n",
       "      <th></th>\n",
       "      <th></th>\n",
       "      <th></th>\n",
       "      <th></th>\n",
       "      <th></th>\n",
       "      <th></th>\n",
       "      <th></th>\n",
       "      <th></th>\n",
       "      <th></th>\n",
       "      <th></th>\n",
       "    </tr>\n",
       "  </thead>\n",
       "  <tbody>\n",
       "    <tr>\n",
       "      <th>rv6siv</th>\n",
       "      <td>2</td>\n",
       "      <td>reversible_defect</td>\n",
       "      <td>115</td>\n",
       "      <td>3</td>\n",
       "      <td>0</td>\n",
       "      <td>0</td>\n",
       "      <td>2</td>\n",
       "      <td>564</td>\n",
       "      <td>1.6</td>\n",
       "      <td>0</td>\n",
       "      <td>67</td>\n",
       "      <td>160</td>\n",
       "      <td>0</td>\n",
       "    </tr>\n",
       "  </tbody>\n",
       "</table>\n",
       "</div>"
      ],
      "text/plain": [
       "            slope_of_peak_exercise_st_segment               thal  \\\n",
       "patient_id                                                         \n",
       "rv6siv                                      2  reversible_defect   \n",
       "\n",
       "            resting_blood_pressure  chest_pain_type  num_major_vessels  \\\n",
       "patient_id                                                               \n",
       "rv6siv                         115                3                  0   \n",
       "\n",
       "            fasting_blood_sugar_gt_120_mg_per_dl  resting_ekg_results  \\\n",
       "patient_id                                                              \n",
       "rv6siv                                         0                    2   \n",
       "\n",
       "            serum_cholesterol_mg_per_dl  oldpeak_eq_st_depression  sex  age  \\\n",
       "patient_id                                                                    \n",
       "rv6siv                              564                       1.6    0   67   \n",
       "\n",
       "            max_heart_rate_achieved  exercise_induced_angina  \n",
       "patient_id                                                    \n",
       "rv6siv                          160                        0  "
      ]
     },
     "execution_count": 140,
     "metadata": {},
     "output_type": "execute_result"
    }
   ],
   "source": [
    "#finding the outlier\n",
    "\n",
    "train_values[train_values.serum_cholesterol_mg_per_dl == 564.000000]"
   ]
  },
  {
   "cell_type": "markdown",
   "metadata": {},
   "source": [
    "The cholesterol level is on high end, especially any value exceeded 240mg/dl is considered ['very high'](https://my.clevelandclinic.org/health/articles/11920-cholesterol-numbers-what-do-they-mean). However, the highest cholesterol level ever recorded is 3165 mg/dl, [Guiness Book of Record](http://www.guinnessworldrecords.com/world-records/highest-triglyceride-level/), and that value is definitely an outlier. With this information, I shall keep this outlier in the dataset. "
   ]
  },
  {
   "cell_type": "markdown",
   "metadata": {},
   "source": [
    "## Data Pre-processed"
   ]
  },
  {
   "cell_type": "markdown",
   "metadata": {},
   "source": [
    "### Feature Engineering\n",
    "\n",
    "I would like to create a attribute called age-range. But before that, I would like an overview of the age distribution for train_values dataset. "
   ]
  },
  {
   "cell_type": "code",
   "execution_count": 141,
   "metadata": {},
   "outputs": [
    {
     "data": {
      "text/plain": [
       "Text(0,0.5,'Frequency')"
      ]
     },
     "execution_count": 141,
     "metadata": {},
     "output_type": "execute_result"
    },
    {
     "data": {
      "image/png": "[encoded data removed]",
      "text/plain": [
       "<matplotlib.figure.Figure at 0xd2c1780>"
      ]
     },
     "metadata": {},
     "output_type": "display_data"
    }
   ],
   "source": [
    "#histogram on age\n",
    "\n",
    "plt.hist(train_values['age'])\n",
    "plt.title(\"Age Histogram in Training Labels\")\n",
    "plt.xlabel(\"Age\")\n",
    "plt.ylabel(\"Frequency\")"
   ]
  },
  {
   "cell_type": "markdown",
   "metadata": {},
   "source": [
    "Majority of the age range falls around 50 to 70.  29 is the youngest age found in this dataset while 77 is the oldest. This new attribute will group the age as per below:-\n",
    "\n",
    "* 21 to 40\n",
    "* 41 to 60\n",
    "* 61 to 80\n",
    "\n",
    "The new feature is now being created in both train_values and test_values dataset. "
   ]
  },
  {
   "cell_type": "code",
   "execution_count": 142,
   "metadata": {
    "collapsed": true
   },
   "outputs": [],
   "source": [
    "# Create new column called agerange in train_values\n",
    "\n",
    "agelist =[]\n",
    "\n",
    "for age in train_values['age']:\n",
    "    if (21 <= age) & (age<= 40):\n",
    "        agelist.append('21-40')\n",
    "        \n",
    "    if (41 <= age <= 60):\n",
    "        agelist.append('41-60')\n",
    "        \n",
    "    if (61 <= age <= 80):\n",
    "        agelist.append('61-80')\n",
    "        \n",
    "train_values['agerange']=agelist\n"
   ]
  },
  {
   "cell_type": "code",
   "execution_count": 143,
   "metadata": {
    "collapsed": true
   },
   "outputs": [],
   "source": [
    "# Create new column called agerange in test_values\n",
    "\n",
    "agelist =[]\n",
    "\n",
    "for age in test_values['age']:\n",
    "    if (21 <= age) & (age<= 40):\n",
    "        agelist.append('21-40')\n",
    "        \n",
    "    if (41 <= age <= 60):\n",
    "        agelist.append('41-60')\n",
    "        \n",
    "    if (61 <= age <= 80):\n",
    "        agelist.append('61-80')\n",
    "        \n",
    "test_values['agerange']=agelist"
   ]
  },
  {
   "cell_type": "markdown",
   "metadata": {},
   "source": [
    "### One-hot encoding"
   ]
  },
  {
   "cell_type": "markdown",
   "metadata": {},
   "source": [
    "One-hot encoding is done for thal and agerange feature. The encoding is done for both train_values and test_values. After it is done, the features have been expanded to 18 features"
   ]
  },
  {
   "cell_type": "code",
   "execution_count": 144,
   "metadata": {},
   "outputs": [
    {
     "name": "stdout",
     "output_type": "stream",
     "text": [
      "18 total features after one-hot encoding.\n",
      "['slope_of_peak_exercise_st_segment', 'resting_blood_pressure', 'chest_pain_type', 'num_major_vessels', 'fasting_blood_sugar_gt_120_mg_per_dl', 'resting_ekg_results', 'serum_cholesterol_mg_per_dl', 'oldpeak_eq_st_depression', 'sex', 'age', 'max_heart_rate_achieved', 'exercise_induced_angina', 'thal_fixed_defect', 'thal_normal', 'thal_reversible_defect', 'agerange_21-40', 'agerange_41-60', 'agerange_61-80']\n"
     ]
    }
   ],
   "source": [
    "# One-hot encode the features agerange and thal data using pandas.get_dummies()\n",
    "train_values_final = pd.get_dummies(train_values, columns=['thal','agerange'])\n",
    "\n",
    "# Encode thal and agerange data to numerical values\n",
    "#new_thal = thal.replace({'normal': 0, 'fixed_defect': 1, 'reversible_defect':2})\n",
    "#new_age = agerange.replace({'21 to 40': 0, '41 to 60': 1, '61 to 80':2})\n",
    "\n",
    "# Print the number of features after one-hot encoding\n",
    "encoded = list(train_values_final.columns)\n",
    "print(\"{} total features after one-hot encoding.\".format(len(encoded)))\n",
    "\n",
    "# Uncomment the following line to see the encoded feature names\n",
    "print (encoded)"
   ]
  },
  {
   "cell_type": "code",
   "execution_count": 145,
   "metadata": {},
   "outputs": [
    {
     "name": "stdout",
     "output_type": "stream",
     "text": [
      "18 total features after one-hot encoding.\n",
      "['slope_of_peak_exercise_st_segment', 'resting_blood_pressure', 'chest_pain_type', 'num_major_vessels', 'fasting_blood_sugar_gt_120_mg_per_dl', 'resting_ekg_results', 'serum_cholesterol_mg_per_dl', 'oldpeak_eq_st_depression', 'sex', 'age', 'max_heart_rate_achieved', 'exercise_induced_angina', 'thal_fixed_defect', 'thal_normal', 'thal_reversible_defect', 'agerange_21-40', 'agerange_41-60', 'agerange_61-80']\n"
     ]
    }
   ],
   "source": [
    "# do the same encoding with test_values\n",
    "\n",
    "# One-hot encode the features agerange and thal data using pandas.get_dummies()\n",
    "test_values_final = pd.get_dummies(test_values, columns=['thal','agerange'])\n",
    "\n",
    "# Encode thal and agerange data to numerical values\n",
    "#new_thal = thal.replace({'normal': 0, 'fixed_defect': 1, 'reversible_defect':2})\n",
    "#new_age = agerange.replace({'21 to 40': 0, '41 to 60': 1, '61 to 80':2})\n",
    "\n",
    "# Print the number of features after one-hot encoding\n",
    "encoded_test = list(train_values_final.columns)\n",
    "print(\"{} total features after one-hot encoding.\".format(len(encoded)))\n",
    "\n",
    "# Uncomment the following line to see the encoded feature names\n",
    "print (encoded_test)"
   ]
  },
  {
   "cell_type": "markdown",
   "metadata": {},
   "source": [
    "### Feature Scaling"
   ]
  },
  {
   "cell_type": "markdown",
   "metadata": {},
   "source": [
    "Feature Scaling needs to be done as some features (resting_blood_pressure, max_heart_rate_achieved) have a three digits value and this may have a bigger a influence in the result compared to features that do not have a huge values like them.\n",
    "\n",
    "MinMax Scaler is being used here as this algorithm shrink the range to a value between 0 and 1, so we have a pretty standard values for all the features. "
   ]
  },
  {
   "cell_type": "code",
   "execution_count": 146,
   "metadata": {
    "collapsed": true
   },
   "outputs": [],
   "source": [
    "#feature scaling for the dataset\n",
    "\n",
    "from sklearn import preprocessing\n",
    "\n",
    "def scaling(train_values,test_values):\n",
    "    scaler = preprocessing.MinMaxScaler()\n",
    "    features_train = scaler.fit_transform(train_values)\n",
    "    features_test = scaler.fit_transform(test_values)\n",
    "    return features_train, features_test"
   ]
  },
  {
   "cell_type": "code",
   "execution_count": 147,
   "metadata": {
    "collapsed": true
   },
   "outputs": [],
   "source": [
    "features_train, features_test=scaling(train_values_final,test_values_final)"
   ]
  },
  {
   "cell_type": "markdown",
   "metadata": {},
   "source": [
    "### Finding Correlation between features"
   ]
  },
  {
   "cell_type": "markdown",
   "metadata": {},
   "source": [
    "Pearson's Correlation is implemented in order to know whether all the features are independent, and whether the features have relationship with the other. "
   ]
  },
  {
   "cell_type": "code",
   "execution_count": 148,
   "metadata": {},
   "outputs": [
    {
     "data": {
      "text/html": [
       "<div>\n",
       "<style>\n",
       "    .dataframe thead tr:only-child th {\n",
       "        text-align: right;\n",
       "    }\n",
       "\n",
       "    .dataframe thead th {\n",
       "        text-align: left;\n",
       "    }\n",
       "\n",
       "    .dataframe tbody tr th {\n",
       "        vertical-align: top;\n",
       "    }\n",
       "</style>\n",
       "<table border=\"1\" class=\"dataframe\">\n",
       "  <thead>\n",
       "    <tr style=\"text-align: right;\">\n",
       "      <th></th>\n",
       "      <th>slope_of_peak_exercise_st_segment</th>\n",
       "      <th>resting_blood_pressure</th>\n",
       "      <th>chest_pain_type</th>\n",
       "      <th>num_major_vessels</th>\n",
       "      <th>fasting_blood_sugar_gt_120_mg_per_dl</th>\n",
       "      <th>resting_ekg_results</th>\n",
       "      <th>serum_cholesterol_mg_per_dl</th>\n",
       "      <th>oldpeak_eq_st_depression</th>\n",
       "      <th>sex</th>\n",
       "      <th>age</th>\n",
       "      <th>max_heart_rate_achieved</th>\n",
       "      <th>exercise_induced_angina</th>\n",
       "      <th>thal_fixed_defect</th>\n",
       "      <th>thal_normal</th>\n",
       "      <th>thal_reversible_defect</th>\n",
       "      <th>agerange_21-40</th>\n",
       "      <th>agerange_41-60</th>\n",
       "      <th>agerange_61-80</th>\n",
       "      <th>heart_disease_present</th>\n",
       "    </tr>\n",
       "    <tr>\n",
       "      <th>patient_id</th>\n",
       "      <th></th>\n",
       "      <th></th>\n",
       "      <th></th>\n",
       "      <th></th>\n",
       "      <th></th>\n",
       "      <th></th>\n",
       "      <th></th>\n",
       "      <th></th>\n",
       "      <th></th>\n",
       "      <th></th>\n",
       "      <th></th>\n",
       "      <th></th>\n",
       "      <th></th>\n",
       "      <th></th>\n",
       "      <th></th>\n",
       "      <th></th>\n",
       "      <th></th>\n",
       "      <th></th>\n",
       "      <th></th>\n",
       "    </tr>\n",
       "  </thead>\n",
       "  <tbody>\n",
       "    <tr>\n",
       "      <th>0z64un</th>\n",
       "      <td>1</td>\n",
       "      <td>128</td>\n",
       "      <td>2</td>\n",
       "      <td>0</td>\n",
       "      <td>0</td>\n",
       "      <td>2</td>\n",
       "      <td>308</td>\n",
       "      <td>0.0</td>\n",
       "      <td>1</td>\n",
       "      <td>45</td>\n",
       "      <td>170</td>\n",
       "      <td>0</td>\n",
       "      <td>0</td>\n",
       "      <td>1</td>\n",
       "      <td>0</td>\n",
       "      <td>0</td>\n",
       "      <td>1</td>\n",
       "      <td>0</td>\n",
       "      <td>0</td>\n",
       "    </tr>\n",
       "    <tr>\n",
       "      <th>ryoo3j</th>\n",
       "      <td>2</td>\n",
       "      <td>110</td>\n",
       "      <td>3</td>\n",
       "      <td>0</td>\n",
       "      <td>0</td>\n",
       "      <td>0</td>\n",
       "      <td>214</td>\n",
       "      <td>1.6</td>\n",
       "      <td>0</td>\n",
       "      <td>54</td>\n",
       "      <td>158</td>\n",
       "      <td>0</td>\n",
       "      <td>0</td>\n",
       "      <td>1</td>\n",
       "      <td>0</td>\n",
       "      <td>0</td>\n",
       "      <td>1</td>\n",
       "      <td>0</td>\n",
       "      <td>0</td>\n",
       "    </tr>\n",
       "    <tr>\n",
       "      <th>yt1s1x</th>\n",
       "      <td>1</td>\n",
       "      <td>125</td>\n",
       "      <td>4</td>\n",
       "      <td>3</td>\n",
       "      <td>0</td>\n",
       "      <td>2</td>\n",
       "      <td>304</td>\n",
       "      <td>0.0</td>\n",
       "      <td>1</td>\n",
       "      <td>77</td>\n",
       "      <td>162</td>\n",
       "      <td>1</td>\n",
       "      <td>0</td>\n",
       "      <td>1</td>\n",
       "      <td>0</td>\n",
       "      <td>0</td>\n",
       "      <td>0</td>\n",
       "      <td>1</td>\n",
       "      <td>1</td>\n",
       "    </tr>\n",
       "    <tr>\n",
       "      <th>l2xjde</th>\n",
       "      <td>1</td>\n",
       "      <td>152</td>\n",
       "      <td>4</td>\n",
       "      <td>0</td>\n",
       "      <td>0</td>\n",
       "      <td>0</td>\n",
       "      <td>223</td>\n",
       "      <td>0.0</td>\n",
       "      <td>1</td>\n",
       "      <td>40</td>\n",
       "      <td>181</td>\n",
       "      <td>0</td>\n",
       "      <td>0</td>\n",
       "      <td>0</td>\n",
       "      <td>1</td>\n",
       "      <td>1</td>\n",
       "      <td>0</td>\n",
       "      <td>0</td>\n",
       "      <td>1</td>\n",
       "    </tr>\n",
       "    <tr>\n",
       "      <th>oyt4ek</th>\n",
       "      <td>3</td>\n",
       "      <td>178</td>\n",
       "      <td>1</td>\n",
       "      <td>0</td>\n",
       "      <td>0</td>\n",
       "      <td>2</td>\n",
       "      <td>270</td>\n",
       "      <td>4.2</td>\n",
       "      <td>1</td>\n",
       "      <td>59</td>\n",
       "      <td>145</td>\n",
       "      <td>0</td>\n",
       "      <td>0</td>\n",
       "      <td>0</td>\n",
       "      <td>1</td>\n",
       "      <td>0</td>\n",
       "      <td>1</td>\n",
       "      <td>0</td>\n",
       "      <td>0</td>\n",
       "    </tr>\n",
       "  </tbody>\n",
       "</table>\n",
       "</div>"
      ],
      "text/plain": [
       "            slope_of_peak_exercise_st_segment  resting_blood_pressure  \\\n",
       "patient_id                                                              \n",
       "0z64un                                      1                     128   \n",
       "ryoo3j                                      2                     110   \n",
       "yt1s1x                                      1                     125   \n",
       "l2xjde                                      1                     152   \n",
       "oyt4ek                                      3                     178   \n",
       "\n",
       "            chest_pain_type  num_major_vessels  \\\n",
       "patient_id                                       \n",
       "0z64un                    2                  0   \n",
       "ryoo3j                    3                  0   \n",
       "yt1s1x                    4                  3   \n",
       "l2xjde                    4                  0   \n",
       "oyt4ek                    1                  0   \n",
       "\n",
       "            fasting_blood_sugar_gt_120_mg_per_dl  resting_ekg_results  \\\n",
       "patient_id                                                              \n",
       "0z64un                                         0                    2   \n",
       "ryoo3j                                         0                    0   \n",
       "yt1s1x                                         0                    2   \n",
       "l2xjde                                         0                    0   \n",
       "oyt4ek                                         0                    2   \n",
       "\n",
       "            serum_cholesterol_mg_per_dl  oldpeak_eq_st_depression  sex  age  \\\n",
       "patient_id                                                                    \n",
       "0z64un                              308                       0.0    1   45   \n",
       "ryoo3j                              214                       1.6    0   54   \n",
       "yt1s1x                              304                       0.0    1   77   \n",
       "l2xjde                              223                       0.0    1   40   \n",
       "oyt4ek                              270                       4.2    1   59   \n",
       "\n",
       "            max_heart_rate_achieved  exercise_induced_angina  \\\n",
       "patient_id                                                     \n",
       "0z64un                          170                        0   \n",
       "ryoo3j                          158                        0   \n",
       "yt1s1x                          162                        1   \n",
       "l2xjde                          181                        0   \n",
       "oyt4ek                          145                        0   \n",
       "\n",
       "            thal_fixed_defect  thal_normal  thal_reversible_defect  \\\n",
       "patient_id                                                           \n",
       "0z64un                      0            1                       0   \n",
       "ryoo3j                      0            1                       0   \n",
       "yt1s1x                      0            1                       0   \n",
       "l2xjde                      0            0                       1   \n",
       "oyt4ek                      0            0                       1   \n",
       "\n",
       "            agerange_21-40  agerange_41-60  agerange_61-80  \\\n",
       "patient_id                                                   \n",
       "0z64un                   0               1               0   \n",
       "ryoo3j                   0               1               0   \n",
       "yt1s1x                   0               0               1   \n",
       "l2xjde                   1               0               0   \n",
       "oyt4ek                   0               1               0   \n",
       "\n",
       "            heart_disease_present  \n",
       "patient_id                         \n",
       "0z64un                          0  \n",
       "ryoo3j                          0  \n",
       "yt1s1x                          1  \n",
       "l2xjde                          1  \n",
       "oyt4ek                          0  "
      ]
     },
     "execution_count": 148,
     "metadata": {},
     "output_type": "execute_result"
    }
   ],
   "source": [
    "#heatmap, cos I'm finding correlation before deciding on the features\n",
    "#first, need to join the train_labels with train_values\n",
    "\n",
    "import seaborn as sns\n",
    "\n",
    "overall=train_values_final.join(train_labels)\n",
    "overall.head()\n"
   ]
  },
  {
   "cell_type": "code",
   "execution_count": 149,
   "metadata": {},
   "outputs": [
    {
     "data": {
      "text/html": [
       "<div>\n",
       "<style>\n",
       "    .dataframe thead tr:only-child th {\n",
       "        text-align: right;\n",
       "    }\n",
       "\n",
       "    .dataframe thead th {\n",
       "        text-align: left;\n",
       "    }\n",
       "\n",
       "    .dataframe tbody tr th {\n",
       "        vertical-align: top;\n",
       "    }\n",
       "</style>\n",
       "<table border=\"1\" class=\"dataframe\">\n",
       "  <thead>\n",
       "    <tr style=\"text-align: right;\">\n",
       "      <th></th>\n",
       "      <th>slope_of_peak_exercise_st_segment</th>\n",
       "      <th>resting_blood_pressure</th>\n",
       "      <th>chest_pain_type</th>\n",
       "      <th>num_major_vessels</th>\n",
       "      <th>fasting_blood_sugar_gt_120_mg_per_dl</th>\n",
       "      <th>resting_ekg_results</th>\n",
       "      <th>serum_cholesterol_mg_per_dl</th>\n",
       "      <th>oldpeak_eq_st_depression</th>\n",
       "      <th>sex</th>\n",
       "      <th>age</th>\n",
       "      <th>max_heart_rate_achieved</th>\n",
       "      <th>exercise_induced_angina</th>\n",
       "      <th>thal_fixed_defect</th>\n",
       "      <th>thal_normal</th>\n",
       "      <th>thal_reversible_defect</th>\n",
       "      <th>agerange_21-40</th>\n",
       "      <th>agerange_41-60</th>\n",
       "      <th>agerange_61-80</th>\n",
       "      <th>heart_disease_present</th>\n",
       "    </tr>\n",
       "  </thead>\n",
       "  <tbody>\n",
       "    <tr>\n",
       "      <th>slope_of_peak_exercise_st_segment</th>\n",
       "      <td>1.000000</td>\n",
       "      <td>0.098287</td>\n",
       "      <td>0.121207</td>\n",
       "      <td>0.076832</td>\n",
       "      <td>0.050199</td>\n",
       "      <td>0.172191</td>\n",
       "      <td>-0.032348</td>\n",
       "      <td>0.615948</td>\n",
       "      <td>0.093340</td>\n",
       "      <td>0.169918</td>\n",
       "      <td>-0.418102</td>\n",
       "      <td>0.225459</td>\n",
       "      <td>0.157263</td>\n",
       "      <td>-0.305492</td>\n",
       "      <td>0.243341</td>\n",
       "      <td>-0.077045</td>\n",
       "      <td>-0.052659</td>\n",
       "      <td>0.095793</td>\n",
       "      <td>0.344224</td>\n",
       "    </tr>\n",
       "    <tr>\n",
       "      <th>resting_blood_pressure</th>\n",
       "      <td>0.098287</td>\n",
       "      <td>1.000000</td>\n",
       "      <td>-0.029296</td>\n",
       "      <td>0.042388</td>\n",
       "      <td>0.166570</td>\n",
       "      <td>0.078986</td>\n",
       "      <td>0.144881</td>\n",
       "      <td>0.219026</td>\n",
       "      <td>-0.055589</td>\n",
       "      <td>0.284402</td>\n",
       "      <td>-0.017521</td>\n",
       "      <td>0.123397</td>\n",
       "      <td>0.127950</td>\n",
       "      <td>-0.098964</td>\n",
       "      <td>0.046578</td>\n",
       "      <td>-0.068941</td>\n",
       "      <td>-0.144424</td>\n",
       "      <td>0.187908</td>\n",
       "      <td>0.078506</td>\n",
       "    </tr>\n",
       "    <tr>\n",
       "      <th>chest_pain_type</th>\n",
       "      <td>0.121207</td>\n",
       "      <td>-0.029296</td>\n",
       "      <td>1.000000</td>\n",
       "      <td>0.249061</td>\n",
       "      <td>-0.088992</td>\n",
       "      <td>0.033379</td>\n",
       "      <td>0.061213</td>\n",
       "      <td>0.080799</td>\n",
       "      <td>0.086057</td>\n",
       "      <td>0.085001</td>\n",
       "      <td>-0.301792</td>\n",
       "      <td>0.346266</td>\n",
       "      <td>-0.007042</td>\n",
       "      <td>-0.300914</td>\n",
       "      <td>0.307524</td>\n",
       "      <td>-0.067190</td>\n",
       "      <td>0.011850</td>\n",
       "      <td>0.022865</td>\n",
       "      <td>0.412829</td>\n",
       "    </tr>\n",
       "    <tr>\n",
       "      <th>num_major_vessels</th>\n",
       "      <td>0.076832</td>\n",
       "      <td>0.042388</td>\n",
       "      <td>0.249061</td>\n",
       "      <td>1.000000</td>\n",
       "      <td>0.169792</td>\n",
       "      <td>0.096656</td>\n",
       "      <td>0.098348</td>\n",
       "      <td>0.214062</td>\n",
       "      <td>0.073107</td>\n",
       "      <td>0.347355</td>\n",
       "      <td>-0.275687</td>\n",
       "      <td>0.153407</td>\n",
       "      <td>-0.015493</td>\n",
       "      <td>-0.185283</td>\n",
       "      <td>0.194026</td>\n",
       "      <td>-0.183282</td>\n",
       "      <td>-0.138740</td>\n",
       "      <td>0.242028</td>\n",
       "      <td>0.421519</td>\n",
       "    </tr>\n",
       "    <tr>\n",
       "      <th>fasting_blood_sugar_gt_120_mg_per_dl</th>\n",
       "      <td>0.050199</td>\n",
       "      <td>0.166570</td>\n",
       "      <td>-0.088992</td>\n",
       "      <td>0.169792</td>\n",
       "      <td>1.000000</td>\n",
       "      <td>0.053864</td>\n",
       "      <td>0.027560</td>\n",
       "      <td>-0.039055</td>\n",
       "      <td>0.066010</td>\n",
       "      <td>0.176101</td>\n",
       "      <td>0.058369</td>\n",
       "      <td>-0.005956</td>\n",
       "      <td>0.125474</td>\n",
       "      <td>-0.023938</td>\n",
       "      <td>-0.028324</td>\n",
       "      <td>-0.111806</td>\n",
       "      <td>-0.021748</td>\n",
       "      <td>0.081597</td>\n",
       "      <td>0.003379</td>\n",
       "    </tr>\n",
       "    <tr>\n",
       "      <th>resting_ekg_results</th>\n",
       "      <td>0.172191</td>\n",
       "      <td>0.078986</td>\n",
       "      <td>0.033379</td>\n",
       "      <td>0.096656</td>\n",
       "      <td>0.053864</td>\n",
       "      <td>1.000000</td>\n",
       "      <td>0.170839</td>\n",
       "      <td>0.097321</td>\n",
       "      <td>0.045786</td>\n",
       "      <td>0.126856</td>\n",
       "      <td>-0.102766</td>\n",
       "      <td>0.037773</td>\n",
       "      <td>0.043308</td>\n",
       "      <td>0.023521</td>\n",
       "      <td>-0.041946</td>\n",
       "      <td>-0.082669</td>\n",
       "      <td>0.037290</td>\n",
       "      <td>0.004283</td>\n",
       "      <td>0.145933</td>\n",
       "    </tr>\n",
       "    <tr>\n",
       "      <th>serum_cholesterol_mg_per_dl</th>\n",
       "      <td>-0.032348</td>\n",
       "      <td>0.144881</td>\n",
       "      <td>0.061213</td>\n",
       "      <td>0.098348</td>\n",
       "      <td>0.027560</td>\n",
       "      <td>0.170839</td>\n",
       "      <td>1.000000</td>\n",
       "      <td>-0.021932</td>\n",
       "      <td>-0.152296</td>\n",
       "      <td>0.236211</td>\n",
       "      <td>-0.071038</td>\n",
       "      <td>0.083139</td>\n",
       "      <td>-0.090092</td>\n",
       "      <td>0.021710</td>\n",
       "      <td>0.015760</td>\n",
       "      <td>-0.120142</td>\n",
       "      <td>-0.153982</td>\n",
       "      <td>0.224853</td>\n",
       "      <td>0.079775</td>\n",
       "    </tr>\n",
       "    <tr>\n",
       "      <th>oldpeak_eq_st_depression</th>\n",
       "      <td>0.615948</td>\n",
       "      <td>0.219026</td>\n",
       "      <td>0.080799</td>\n",
       "      <td>0.214062</td>\n",
       "      <td>-0.039055</td>\n",
       "      <td>0.097321</td>\n",
       "      <td>-0.021932</td>\n",
       "      <td>1.000000</td>\n",
       "      <td>0.099374</td>\n",
       "      <td>0.189700</td>\n",
       "      <td>-0.341045</td>\n",
       "      <td>0.249167</td>\n",
       "      <td>0.055930</td>\n",
       "      <td>-0.332991</td>\n",
       "      <td>0.313616</td>\n",
       "      <td>-0.008504</td>\n",
       "      <td>-0.061858</td>\n",
       "      <td>0.069433</td>\n",
       "      <td>0.382930</td>\n",
       "    </tr>\n",
       "    <tr>\n",
       "      <th>sex</th>\n",
       "      <td>0.093340</td>\n",
       "      <td>-0.055589</td>\n",
       "      <td>0.086057</td>\n",
       "      <td>0.073107</td>\n",
       "      <td>0.066010</td>\n",
       "      <td>0.045786</td>\n",
       "      <td>-0.152296</td>\n",
       "      <td>0.099374</td>\n",
       "      <td>1.000000</td>\n",
       "      <td>-0.148997</td>\n",
       "      <td>-0.053960</td>\n",
       "      <td>0.251096</td>\n",
       "      <td>0.144932</td>\n",
       "      <td>-0.421950</td>\n",
       "      <td>0.366381</td>\n",
       "      <td>0.071252</td>\n",
       "      <td>0.177716</td>\n",
       "      <td>-0.224086</td>\n",
       "      <td>0.335421</td>\n",
       "    </tr>\n",
       "    <tr>\n",
       "      <th>age</th>\n",
       "      <td>0.169918</td>\n",
       "      <td>0.284402</td>\n",
       "      <td>0.085001</td>\n",
       "      <td>0.347355</td>\n",
       "      <td>0.176101</td>\n",
       "      <td>0.126856</td>\n",
       "      <td>0.236211</td>\n",
       "      <td>0.189700</td>\n",
       "      <td>-0.148997</td>\n",
       "      <td>1.000000</td>\n",
       "      <td>-0.394630</td>\n",
       "      <td>0.081811</td>\n",
       "      <td>0.070984</td>\n",
       "      <td>-0.049719</td>\n",
       "      <td>0.020593</td>\n",
       "      <td>-0.490640</td>\n",
       "      <td>-0.471392</td>\n",
       "      <td>0.752912</td>\n",
       "      <td>0.138255</td>\n",
       "    </tr>\n",
       "    <tr>\n",
       "      <th>max_heart_rate_achieved</th>\n",
       "      <td>-0.418102</td>\n",
       "      <td>-0.017521</td>\n",
       "      <td>-0.301792</td>\n",
       "      <td>-0.275687</td>\n",
       "      <td>0.058369</td>\n",
       "      <td>-0.102766</td>\n",
       "      <td>-0.071038</td>\n",
       "      <td>-0.341045</td>\n",
       "      <td>-0.053960</td>\n",
       "      <td>-0.394630</td>\n",
       "      <td>1.000000</td>\n",
       "      <td>-0.365065</td>\n",
       "      <td>-0.132164</td>\n",
       "      <td>0.271064</td>\n",
       "      <td>-0.219006</td>\n",
       "      <td>0.192573</td>\n",
       "      <td>0.185642</td>\n",
       "      <td>-0.296168</td>\n",
       "      <td>-0.375352</td>\n",
       "    </tr>\n",
       "    <tr>\n",
       "      <th>exercise_induced_angina</th>\n",
       "      <td>0.225459</td>\n",
       "      <td>0.123397</td>\n",
       "      <td>0.346266</td>\n",
       "      <td>0.153407</td>\n",
       "      <td>-0.005956</td>\n",
       "      <td>0.037773</td>\n",
       "      <td>0.083139</td>\n",
       "      <td>0.249167</td>\n",
       "      <td>0.251096</td>\n",
       "      <td>0.081811</td>\n",
       "      <td>-0.365065</td>\n",
       "      <td>1.000000</td>\n",
       "      <td>-0.030908</td>\n",
       "      <td>-0.384491</td>\n",
       "      <td>0.402114</td>\n",
       "      <td>0.075619</td>\n",
       "      <td>-0.043246</td>\n",
       "      <td>0.005677</td>\n",
       "      <td>0.448647</td>\n",
       "    </tr>\n",
       "    <tr>\n",
       "      <th>thal_fixed_defect</th>\n",
       "      <td>0.157263</td>\n",
       "      <td>0.127950</td>\n",
       "      <td>-0.007042</td>\n",
       "      <td>-0.015493</td>\n",
       "      <td>0.125474</td>\n",
       "      <td>0.043308</td>\n",
       "      <td>-0.090092</td>\n",
       "      <td>0.055930</td>\n",
       "      <td>0.144932</td>\n",
       "      <td>0.070984</td>\n",
       "      <td>-0.132164</td>\n",
       "      <td>-0.030908</td>\n",
       "      <td>1.000000</td>\n",
       "      <td>-0.235769</td>\n",
       "      <td>-0.180195</td>\n",
       "      <td>-0.055022</td>\n",
       "      <td>-0.008761</td>\n",
       "      <td>0.038116</td>\n",
       "      <td>0.024112</td>\n",
       "    </tr>\n",
       "    <tr>\n",
       "      <th>thal_normal</th>\n",
       "      <td>-0.305492</td>\n",
       "      <td>-0.098964</td>\n",
       "      <td>-0.300914</td>\n",
       "      <td>-0.185283</td>\n",
       "      <td>-0.023938</td>\n",
       "      <td>0.023521</td>\n",
       "      <td>0.021710</td>\n",
       "      <td>-0.332991</td>\n",
       "      <td>-0.421950</td>\n",
       "      <td>-0.049719</td>\n",
       "      <td>0.271064</td>\n",
       "      <td>-0.384491</td>\n",
       "      <td>-0.235769</td>\n",
       "      <td>1.000000</td>\n",
       "      <td>-0.913417</td>\n",
       "      <td>-0.092624</td>\n",
       "      <td>-0.050233</td>\n",
       "      <td>0.101433</td>\n",
       "      <td>-0.528812</td>\n",
       "    </tr>\n",
       "    <tr>\n",
       "      <th>thal_reversible_defect</th>\n",
       "      <td>0.243341</td>\n",
       "      <td>0.046578</td>\n",
       "      <td>0.307524</td>\n",
       "      <td>0.194026</td>\n",
       "      <td>-0.028324</td>\n",
       "      <td>-0.041946</td>\n",
       "      <td>0.015760</td>\n",
       "      <td>0.313616</td>\n",
       "      <td>0.366381</td>\n",
       "      <td>0.020593</td>\n",
       "      <td>-0.219006</td>\n",
       "      <td>0.402114</td>\n",
       "      <td>-0.180195</td>\n",
       "      <td>-0.913417</td>\n",
       "      <td>1.000000</td>\n",
       "      <td>0.116796</td>\n",
       "      <td>0.054514</td>\n",
       "      <td>-0.118631</td>\n",
       "      <td>0.525145</td>\n",
       "    </tr>\n",
       "    <tr>\n",
       "      <th>agerange_21-40</th>\n",
       "      <td>-0.077045</td>\n",
       "      <td>-0.068941</td>\n",
       "      <td>-0.067190</td>\n",
       "      <td>-0.183282</td>\n",
       "      <td>-0.111806</td>\n",
       "      <td>-0.082669</td>\n",
       "      <td>-0.120142</td>\n",
       "      <td>-0.008504</td>\n",
       "      <td>0.071252</td>\n",
       "      <td>-0.490640</td>\n",
       "      <td>0.192573</td>\n",
       "      <td>0.075619</td>\n",
       "      <td>-0.055022</td>\n",
       "      <td>-0.092624</td>\n",
       "      <td>0.116796</td>\n",
       "      <td>1.000000</td>\n",
       "      <td>-0.343473</td>\n",
       "      <td>-0.164812</td>\n",
       "      <td>0.051862</td>\n",
       "    </tr>\n",
       "    <tr>\n",
       "      <th>agerange_41-60</th>\n",
       "      <td>-0.052659</td>\n",
       "      <td>-0.144424</td>\n",
       "      <td>0.011850</td>\n",
       "      <td>-0.138740</td>\n",
       "      <td>-0.021748</td>\n",
       "      <td>0.037290</td>\n",
       "      <td>-0.153982</td>\n",
       "      <td>-0.061858</td>\n",
       "      <td>0.177716</td>\n",
       "      <td>-0.471392</td>\n",
       "      <td>0.185642</td>\n",
       "      <td>-0.043246</td>\n",
       "      <td>-0.008761</td>\n",
       "      <td>-0.050233</td>\n",
       "      <td>0.054514</td>\n",
       "      <td>-0.343473</td>\n",
       "      <td>1.000000</td>\n",
       "      <td>-0.869711</td>\n",
       "      <td>-0.059689</td>\n",
       "    </tr>\n",
       "    <tr>\n",
       "      <th>agerange_61-80</th>\n",
       "      <td>0.095793</td>\n",
       "      <td>0.187908</td>\n",
       "      <td>0.022865</td>\n",
       "      <td>0.242028</td>\n",
       "      <td>0.081597</td>\n",
       "      <td>0.004283</td>\n",
       "      <td>0.224853</td>\n",
       "      <td>0.069433</td>\n",
       "      <td>-0.224086</td>\n",
       "      <td>0.752912</td>\n",
       "      <td>-0.296168</td>\n",
       "      <td>0.005677</td>\n",
       "      <td>0.038116</td>\n",
       "      <td>0.101433</td>\n",
       "      <td>-0.118631</td>\n",
       "      <td>-0.164812</td>\n",
       "      <td>-0.869711</td>\n",
       "      <td>1.000000</td>\n",
       "      <td>0.035431</td>\n",
       "    </tr>\n",
       "    <tr>\n",
       "      <th>heart_disease_present</th>\n",
       "      <td>0.344224</td>\n",
       "      <td>0.078506</td>\n",
       "      <td>0.412829</td>\n",
       "      <td>0.421519</td>\n",
       "      <td>0.003379</td>\n",
       "      <td>0.145933</td>\n",
       "      <td>0.079775</td>\n",
       "      <td>0.382930</td>\n",
       "      <td>0.335421</td>\n",
       "      <td>0.138255</td>\n",
       "      <td>-0.375352</td>\n",
       "      <td>0.448647</td>\n",
       "      <td>0.024112</td>\n",
       "      <td>-0.528812</td>\n",
       "      <td>0.525145</td>\n",
       "      <td>0.051862</td>\n",
       "      <td>-0.059689</td>\n",
       "      <td>0.035431</td>\n",
       "      <td>1.000000</td>\n",
       "    </tr>\n",
       "  </tbody>\n",
       "</table>\n",
       "</div>"
      ],
      "text/plain": [
       "                                      slope_of_peak_exercise_st_segment  \\\n",
       "slope_of_peak_exercise_st_segment                              1.000000   \n",
       "resting_blood_pressure                                         0.098287   \n",
       "chest_pain_type                                                0.121207   \n",
       "num_major_vessels                                              0.076832   \n",
       "fasting_blood_sugar_gt_120_mg_per_dl                           0.050199   \n",
       "resting_ekg_results                                            0.172191   \n",
       "serum_cholesterol_mg_per_dl                                   -0.032348   \n",
       "oldpeak_eq_st_depression                                       0.615948   \n",
       "sex                                                            0.093340   \n",
       "age                                                            0.169918   \n",
       "max_heart_rate_achieved                                       -0.418102   \n",
       "exercise_induced_angina                                        0.225459   \n",
       "thal_fixed_defect                                              0.157263   \n",
       "thal_normal                                                   -0.305492   \n",
       "thal_reversible_defect                                         0.243341   \n",
       "agerange_21-40                                                -0.077045   \n",
       "agerange_41-60                                                -0.052659   \n",
       "agerange_61-80                                                 0.095793   \n",
       "heart_disease_present                                          0.344224   \n",
       "\n",
       "                                      resting_blood_pressure  chest_pain_type  \\\n",
       "slope_of_peak_exercise_st_segment                   0.098287         0.121207   \n",
       "resting_blood_pressure                              1.000000        -0.029296   \n",
       "chest_pain_type                                    -0.029296         1.000000   \n",
       "num_major_vessels                                   0.042388         0.249061   \n",
       "fasting_blood_sugar_gt_120_mg_per_dl                0.166570        -0.088992   \n",
       "resting_ekg_results                                 0.078986         0.033379   \n",
       "serum_cholesterol_mg_per_dl                         0.144881         0.061213   \n",
       "oldpeak_eq_st_depression                            0.219026         0.080799   \n",
       "sex                                                -0.055589         0.086057   \n",
       "age                                                 0.284402         0.085001   \n",
       "max_heart_rate_achieved                            -0.017521        -0.301792   \n",
       "exercise_induced_angina                             0.123397         0.346266   \n",
       "thal_fixed_defect                                   0.127950        -0.007042   \n",
       "thal_normal                                        -0.098964        -0.300914   \n",
       "thal_reversible_defect                              0.046578         0.307524   \n",
       "agerange_21-40                                     -0.068941        -0.067190   \n",
       "agerange_41-60                                     -0.144424         0.011850   \n",
       "agerange_61-80                                      0.187908         0.022865   \n",
       "heart_disease_present                               0.078506         0.412829   \n",
       "\n",
       "                                      num_major_vessels  \\\n",
       "slope_of_peak_exercise_st_segment              0.076832   \n",
       "resting_blood_pressure                         0.042388   \n",
       "chest_pain_type                                0.249061   \n",
       "num_major_vessels                              1.000000   \n",
       "fasting_blood_sugar_gt_120_mg_per_dl           0.169792   \n",
       "resting_ekg_results                            0.096656   \n",
       "serum_cholesterol_mg_per_dl                    0.098348   \n",
       "oldpeak_eq_st_depression                       0.214062   \n",
       "sex                                            0.073107   \n",
       "age                                            0.347355   \n",
       "max_heart_rate_achieved                       -0.275687   \n",
       "exercise_induced_angina                        0.153407   \n",
       "thal_fixed_defect                             -0.015493   \n",
       "thal_normal                                   -0.185283   \n",
       "thal_reversible_defect                         0.194026   \n",
       "agerange_21-40                                -0.183282   \n",
       "agerange_41-60                                -0.138740   \n",
       "agerange_61-80                                 0.242028   \n",
       "heart_disease_present                          0.421519   \n",
       "\n",
       "                                      fasting_blood_sugar_gt_120_mg_per_dl  \\\n",
       "slope_of_peak_exercise_st_segment                                 0.050199   \n",
       "resting_blood_pressure                                            0.166570   \n",
       "chest_pain_type                                                  -0.088992   \n",
       "num_major_vessels                                                 0.169792   \n",
       "fasting_blood_sugar_gt_120_mg_per_dl                              1.000000   \n",
       "resting_ekg_results                                               0.053864   \n",
       "serum_cholesterol_mg_per_dl                                       0.027560   \n",
       "oldpeak_eq_st_depression                                         -0.039055   \n",
       "sex                                                               0.066010   \n",
       "age                                                               0.176101   \n",
       "max_heart_rate_achieved                                           0.058369   \n",
       "exercise_induced_angina                                          -0.005956   \n",
       "thal_fixed_defect                                                 0.125474   \n",
       "thal_normal                                                      -0.023938   \n",
       "thal_reversible_defect                                           -0.028324   \n",
       "agerange_21-40                                                   -0.111806   \n",
       "agerange_41-60                                                   -0.021748   \n",
       "agerange_61-80                                                    0.081597   \n",
       "heart_disease_present                                             0.003379   \n",
       "\n",
       "                                      resting_ekg_results  \\\n",
       "slope_of_peak_exercise_st_segment                0.172191   \n",
       "resting_blood_pressure                           0.078986   \n",
       "chest_pain_type                                  0.033379   \n",
       "num_major_vessels                                0.096656   \n",
       "fasting_blood_sugar_gt_120_mg_per_dl             0.053864   \n",
       "resting_ekg_results                              1.000000   \n",
       "serum_cholesterol_mg_per_dl                      0.170839   \n",
       "oldpeak_eq_st_depression                         0.097321   \n",
       "sex                                              0.045786   \n",
       "age                                              0.126856   \n",
       "max_heart_rate_achieved                         -0.102766   \n",
       "exercise_induced_angina                          0.037773   \n",
       "thal_fixed_defect                                0.043308   \n",
       "thal_normal                                      0.023521   \n",
       "thal_reversible_defect                          -0.041946   \n",
       "agerange_21-40                                  -0.082669   \n",
       "agerange_41-60                                   0.037290   \n",
       "agerange_61-80                                   0.004283   \n",
       "heart_disease_present                            0.145933   \n",
       "\n",
       "                                      serum_cholesterol_mg_per_dl  \\\n",
       "slope_of_peak_exercise_st_segment                       -0.032348   \n",
       "resting_blood_pressure                                   0.144881   \n",
       "chest_pain_type                                          0.061213   \n",
       "num_major_vessels                                        0.098348   \n",
       "fasting_blood_sugar_gt_120_mg_per_dl                     0.027560   \n",
       "resting_ekg_results                                      0.170839   \n",
       "serum_cholesterol_mg_per_dl                              1.000000   \n",
       "oldpeak_eq_st_depression                                -0.021932   \n",
       "sex                                                     -0.152296   \n",
       "age                                                      0.236211   \n",
       "max_heart_rate_achieved                                 -0.071038   \n",
       "exercise_induced_angina                                  0.083139   \n",
       "thal_fixed_defect                                       -0.090092   \n",
       "thal_normal                                              0.021710   \n",
       "thal_reversible_defect                                   0.015760   \n",
       "agerange_21-40                                          -0.120142   \n",
       "agerange_41-60                                          -0.153982   \n",
       "agerange_61-80                                           0.224853   \n",
       "heart_disease_present                                    0.079775   \n",
       "\n",
       "                                      oldpeak_eq_st_depression       sex  \\\n",
       "slope_of_peak_exercise_st_segment                     0.615948  0.093340   \n",
       "resting_blood_pressure                                0.219026 -0.055589   \n",
       "chest_pain_type                                       0.080799  0.086057   \n",
       "num_major_vessels                                     0.214062  0.073107   \n",
       "fasting_blood_sugar_gt_120_mg_per_dl                 -0.039055  0.066010   \n",
       "resting_ekg_results                                   0.097321  0.045786   \n",
       "serum_cholesterol_mg_per_dl                          -0.021932 -0.152296   \n",
       "oldpeak_eq_st_depression                              1.000000  0.099374   \n",
       "sex                                                   0.099374  1.000000   \n",
       "age                                                   0.189700 -0.148997   \n",
       "max_heart_rate_achieved                              -0.341045 -0.053960   \n",
       "exercise_induced_angina                               0.249167  0.251096   \n",
       "thal_fixed_defect                                     0.055930  0.144932   \n",
       "thal_normal                                          -0.332991 -0.421950   \n",
       "thal_reversible_defect                                0.313616  0.366381   \n",
       "agerange_21-40                                       -0.008504  0.071252   \n",
       "agerange_41-60                                       -0.061858  0.177716   \n",
       "agerange_61-80                                        0.069433 -0.224086   \n",
       "heart_disease_present                                 0.382930  0.335421   \n",
       "\n",
       "                                           age  max_heart_rate_achieved  \\\n",
       "slope_of_peak_exercise_st_segment     0.169918                -0.418102   \n",
       "resting_blood_pressure                0.284402                -0.017521   \n",
       "chest_pain_type                       0.085001                -0.301792   \n",
       "num_major_vessels                     0.347355                -0.275687   \n",
       "fasting_blood_sugar_gt_120_mg_per_dl  0.176101                 0.058369   \n",
       "resting_ekg_results                   0.126856                -0.102766   \n",
       "serum_cholesterol_mg_per_dl           0.236211                -0.071038   \n",
       "oldpeak_eq_st_depression              0.189700                -0.341045   \n",
       "sex                                  -0.148997                -0.053960   \n",
       "age                                   1.000000                -0.394630   \n",
       "max_heart_rate_achieved              -0.394630                 1.000000   \n",
       "exercise_induced_angina               0.081811                -0.365065   \n",
       "thal_fixed_defect                     0.070984                -0.132164   \n",
       "thal_normal                          -0.049719                 0.271064   \n",
       "thal_reversible_defect                0.020593                -0.219006   \n",
       "agerange_21-40                       -0.490640                 0.192573   \n",
       "agerange_41-60                       -0.471392                 0.185642   \n",
       "agerange_61-80                        0.752912                -0.296168   \n",
       "heart_disease_present                 0.138255                -0.375352   \n",
       "\n",
       "                                      exercise_induced_angina  \\\n",
       "slope_of_peak_exercise_st_segment                    0.225459   \n",
       "resting_blood_pressure                               0.123397   \n",
       "chest_pain_type                                      0.346266   \n",
       "num_major_vessels                                    0.153407   \n",
       "fasting_blood_sugar_gt_120_mg_per_dl                -0.005956   \n",
       "resting_ekg_results                                  0.037773   \n",
       "serum_cholesterol_mg_per_dl                          0.083139   \n",
       "oldpeak_eq_st_depression                             0.249167   \n",
       "sex                                                  0.251096   \n",
       "age                                                  0.081811   \n",
       "max_heart_rate_achieved                             -0.365065   \n",
       "exercise_induced_angina                              1.000000   \n",
       "thal_fixed_defect                                   -0.030908   \n",
       "thal_normal                                         -0.384491   \n",
       "thal_reversible_defect                               0.402114   \n",
       "agerange_21-40                                       0.075619   \n",
       "agerange_41-60                                      -0.043246   \n",
       "agerange_61-80                                       0.005677   \n",
       "heart_disease_present                                0.448647   \n",
       "\n",
       "                                      thal_fixed_defect  thal_normal  \\\n",
       "slope_of_peak_exercise_st_segment              0.157263    -0.305492   \n",
       "resting_blood_pressure                         0.127950    -0.098964   \n",
       "chest_pain_type                               -0.007042    -0.300914   \n",
       "num_major_vessels                             -0.015493    -0.185283   \n",
       "fasting_blood_sugar_gt_120_mg_per_dl           0.125474    -0.023938   \n",
       "resting_ekg_results                            0.043308     0.023521   \n",
       "serum_cholesterol_mg_per_dl                   -0.090092     0.021710   \n",
       "oldpeak_eq_st_depression                       0.055930    -0.332991   \n",
       "sex                                            0.144932    -0.421950   \n",
       "age                                            0.070984    -0.049719   \n",
       "max_heart_rate_achieved                       -0.132164     0.271064   \n",
       "exercise_induced_angina                       -0.030908    -0.384491   \n",
       "thal_fixed_defect                              1.000000    -0.235769   \n",
       "thal_normal                                   -0.235769     1.000000   \n",
       "thal_reversible_defect                        -0.180195    -0.913417   \n",
       "agerange_21-40                                -0.055022    -0.092624   \n",
       "agerange_41-60                                -0.008761    -0.050233   \n",
       "agerange_61-80                                 0.038116     0.101433   \n",
       "heart_disease_present                          0.024112    -0.528812   \n",
       "\n",
       "                                      thal_reversible_defect  agerange_21-40  \\\n",
       "slope_of_peak_exercise_st_segment                   0.243341       -0.077045   \n",
       "resting_blood_pressure                              0.046578       -0.068941   \n",
       "chest_pain_type                                     0.307524       -0.067190   \n",
       "num_major_vessels                                   0.194026       -0.183282   \n",
       "fasting_blood_sugar_gt_120_mg_per_dl               -0.028324       -0.111806   \n",
       "resting_ekg_results                                -0.041946       -0.082669   \n",
       "serum_cholesterol_mg_per_dl                         0.015760       -0.120142   \n",
       "oldpeak_eq_st_depression                            0.313616       -0.008504   \n",
       "sex                                                 0.366381        0.071252   \n",
       "age                                                 0.020593       -0.490640   \n",
       "max_heart_rate_achieved                            -0.219006        0.192573   \n",
       "exercise_induced_angina                             0.402114        0.075619   \n",
       "thal_fixed_defect                                  -0.180195       -0.055022   \n",
       "thal_normal                                        -0.913417       -0.092624   \n",
       "thal_reversible_defect                              1.000000        0.116796   \n",
       "agerange_21-40                                      0.116796        1.000000   \n",
       "agerange_41-60                                      0.054514       -0.343473   \n",
       "agerange_61-80                                     -0.118631       -0.164812   \n",
       "heart_disease_present                               0.525145        0.051862   \n",
       "\n",
       "                                      agerange_41-60  agerange_61-80  \\\n",
       "slope_of_peak_exercise_st_segment          -0.052659        0.095793   \n",
       "resting_blood_pressure                     -0.144424        0.187908   \n",
       "chest_pain_type                             0.011850        0.022865   \n",
       "num_major_vessels                          -0.138740        0.242028   \n",
       "fasting_blood_sugar_gt_120_mg_per_dl       -0.021748        0.081597   \n",
       "resting_ekg_results                         0.037290        0.004283   \n",
       "serum_cholesterol_mg_per_dl                -0.153982        0.224853   \n",
       "oldpeak_eq_st_depression                   -0.061858        0.069433   \n",
       "sex                                         0.177716       -0.224086   \n",
       "age                                        -0.471392        0.752912   \n",
       "max_heart_rate_achieved                     0.185642       -0.296168   \n",
       "exercise_induced_angina                    -0.043246        0.005677   \n",
       "thal_fixed_defect                          -0.008761        0.038116   \n",
       "thal_normal                                -0.050233        0.101433   \n",
       "thal_reversible_defect                      0.054514       -0.118631   \n",
       "agerange_21-40                             -0.343473       -0.164812   \n",
       "agerange_41-60                              1.000000       -0.869711   \n",
       "agerange_61-80                             -0.869711        1.000000   \n",
       "heart_disease_present                      -0.059689        0.035431   \n",
       "\n",
       "                                      heart_disease_present  \n",
       "slope_of_peak_exercise_st_segment                  0.344224  \n",
       "resting_blood_pressure                             0.078506  \n",
       "chest_pain_type                                    0.412829  \n",
       "num_major_vessels                                  0.421519  \n",
       "fasting_blood_sugar_gt_120_mg_per_dl               0.003379  \n",
       "resting_ekg_results                                0.145933  \n",
       "serum_cholesterol_mg_per_dl                        0.079775  \n",
       "oldpeak_eq_st_depression                           0.382930  \n",
       "sex                                                0.335421  \n",
       "age                                                0.138255  \n",
       "max_heart_rate_achieved                           -0.375352  \n",
       "exercise_induced_angina                            0.448647  \n",
       "thal_fixed_defect                                  0.024112  \n",
       "thal_normal                                       -0.528812  \n",
       "thal_reversible_defect                             0.525145  \n",
       "agerange_21-40                                     0.051862  \n",
       "agerange_41-60                                    -0.059689  \n",
       "agerange_61-80                                     0.035431  \n",
       "heart_disease_present                              1.000000  "
      ]
     },
     "metadata": {},
     "output_type": "display_data"
    }
   ],
   "source": [
    "corr=overall.corr()\n",
    "\n",
    "display(corr)"
   ]
  },
  {
   "cell_type": "code",
   "execution_count": 150,
   "metadata": {},
   "outputs": [
    {
     "data": {
      "text/plain": [
       "<matplotlib.axes._subplots.AxesSubplot at 0xd2c1dd8>"
      ]
     },
     "execution_count": 150,
     "metadata": {},
     "output_type": "execute_result"
    },
    {
     "data": {
      "image/png": "[encoded data removed]",
      "text/plain": [
       "<matplotlib.figure.Figure at 0xd2c1710>"
      ]
     },
     "metadata": {},
     "output_type": "display_data"
    }
   ],
   "source": [
    "plt.figure(figsize=(16,10))\n",
    "plt.title(\"Correlation heatmap for Heart Disease training dataset\")\n",
    "sns.heatmap(corr, \n",
    "            xticklabels=corr.columns.values,\n",
    "            yticklabels=corr.columns.values)"
   ]
  },
  {
   "cell_type": "markdown",
   "metadata": {},
   "source": [
    "From the heatmap above, we can see some featurs have a strong correlation with each other(eg; thal_normal and thal_reversible_defect has a strong negative correlation, while slope_of_peak_exercise_st_segment and oldpeak_eq_st_depression has a pretty strong positive correlation). Some moderate correlations also present in this heatmap (eg; thal_reversible_defect and exercise_induced_angina that has a moderate positive correlation). \n",
    "\n",
    "The heatmap tells us that the features are not independent of one another, as some featurs are strongly correlated. "
   ]
  },
  {
   "cell_type": "code",
   "execution_count": 151,
   "metadata": {},
   "outputs": [
    {
     "name": "stdout",
     "output_type": "stream",
     "text": [
      "Correlation slope_of_peak_exercise_st_segment : 0.344223986923\n",
      "Correlation resting_blood_pressure : 0.0785057354407\n",
      "Correlation chest_pain_type : 0.412828625366\n",
      "Correlation num_major_vessels : 0.421518626048\n",
      "Correlation fasting_blood_sugar_gt_120_mg_per_dl : 0.0033790726529\n",
      "Correlation resting_ekg_results : 0.145933394351\n",
      "Correlation serum_cholesterol_mg_per_dl : 0.0797748513149\n",
      "Correlation oldpeak_eq_st_depression : 0.382930227959\n",
      "Correlation sex : 0.335420930266\n",
      "Correlation age : 0.138254706651\n",
      "Correlation max_heart_rate_achieved : -0.375351869368\n",
      "Correlation exercise_induced_angina : 0.448646516812\n",
      "Correlation thal_fixed_defect : 0.0241121411085\n",
      "Correlation thal_normal : -0.528811509654\n",
      "Correlation thal_reversible_defect : 0.525145374593\n",
      "Correlation agerange_21-40 : 0.0518615278818\n",
      "Correlation agerange_41-60 : -0.0596889386449\n",
      "Correlation agerange_61-80 : 0.0354314200906\n",
      "Correlation heart_disease_present : 1.0\n"
     ]
    }
   ],
   "source": [
    "#get correlation to heart_disease_present\n",
    "\n",
    "def get_corr(feature):\n",
    "\n",
    "    return overall[feature].corr(overall['heart_disease_present'])\n",
    "\n",
    "for feature in overall:\n",
    "    print ('Correlation', feature,':', get_corr(feature))"
   ]
  },
  {
   "cell_type": "markdown",
   "metadata": {},
   "source": [
    "Below are the Top 5 features with the highest Pearson's correlation score:-\n",
    "\n",
    "* thal_normal : -0.528811509654\n",
    "* thal_reversible_defect : 0.525145374593\n",
    "* exercise_induced_angina : 0.448646516812\n",
    "* num_major_vessels : 0.421518626048\n",
    "* chest_pain_type : 0.412828625366\n",
    "\n",
    "There is a correlation between these five features with heart_disease_present feature, however, looking at the scores, the correlation isn't that strong. "
   ]
  },
  {
   "cell_type": "markdown",
   "metadata": {},
   "source": [
    "## Training"
   ]
  },
  {
   "cell_type": "markdown",
   "metadata": {},
   "source": [
    "### Splitting the training dataset into test-validation"
   ]
  },
  {
   "cell_type": "markdown",
   "metadata": {},
   "source": [
    "Although the dataset has been split into training and testing, I still want to further split the training set into training and testing set. This is because I do not want the algorithm to 'see' the data first. This will reduce the possibility of overfitting. Here, I will use StratifiedKFold."
   ]
  },
  {
   "cell_type": "code",
   "execution_count": 152,
   "metadata": {
    "collapsed": true
   },
   "outputs": [],
   "source": [
    "from sklearn.model_selection import StratifiedKFold\n",
    "\n",
    "def stratified_kf(features,labels):\n",
    "    labels=labels.values\n",
    "    skf = StratifiedKFold(n_splits=2, random_state=11)\n",
    "    #skf.get_n_splits(features, labels)\n",
    "\n",
    "    #print(skf)  \n",
    "\n",
    "\n",
    "    for train_index, test_index in skf.split(features, labels):\n",
    "        #print(\"TRAIN:\", train_index, \"TEST:\", test_index)\n",
    "        #print ('TEST', test_index)\n",
    "        X_train, X_test = features[train_index], features[test_index]\n",
    "        y_train, y_test = labels[train_index], labels[test_index]\n",
    "        return X_train, X_test, y_train, y_test \n",
    "    #print ( y_train)"
   ]
  },
  {
   "cell_type": "code",
   "execution_count": 153,
   "metadata": {
    "collapsed": true
   },
   "outputs": [],
   "source": [
    "X_train, X_test, y_train, y_test = stratified_kf(features_train, train_labels)"
   ]
  },
  {
   "cell_type": "markdown",
   "metadata": {},
   "source": [
    "### Classifiers"
   ]
  },
  {
   "cell_type": "markdown",
   "metadata": {},
   "source": [
    "Four classifiers were chosen for this training. Additional ensemble classifier called VotingClassifier was imported to use for stacking. Stacking is a method where we combined a few classifiers and trained the dataset using that combinations. Scoring-wise, we are using the log-loss metrics. The smaller the scores, the better the model is performing. "
   ]
  },
  {
   "cell_type": "code",
   "execution_count": 154,
   "metadata": {
    "collapsed": true
   },
   "outputs": [],
   "source": [
    "# classifiers\n",
    "\n",
    "from sklearn.tree import DecisionTreeClassifier\n",
    "from sklearn.neighbors import KNeighborsClassifier \n",
    "from sklearn.linear_model import LogisticRegression\n",
    "from sklearn.ensemble import AdaBoostClassifier\n",
    "\n",
    "#for stacking\n",
    "from sklearn.ensemble import VotingClassifier\n",
    "\n",
    "# import metrics\n",
    "from sklearn.metrics import log_loss\n"
   ]
  },
  {
   "cell_type": "code",
   "execution_count": 155,
   "metadata": {},
   "outputs": [
    {
     "name": "stdout",
     "output_type": "stream",
     "text": [
      "log_loss score for Decision Tree with no parameter tuning: 9.21034037198\n"
     ]
    },
    {
     "data": {
      "text/plain": [
       "DecisionTreeClassifier(class_weight=None, criterion='gini', max_depth=None,\n",
       "            max_features=None, max_leaf_nodes=None,\n",
       "            min_impurity_decrease=0.0, min_impurity_split=None,\n",
       "            min_samples_leaf=1, min_samples_split=2,\n",
       "            min_weight_fraction_leaf=0.0, presort=False, random_state=None,\n",
       "            splitter='best')"
      ]
     },
     "execution_count": 155,
     "metadata": {},
     "output_type": "execute_result"
    }
   ],
   "source": [
    "def dt_(features_train,labels_train, features_test, labels_test):\n",
    "    \n",
    "    clf_dt = DecisionTreeClassifier()\n",
    "    clf_dt.fit(features_train, labels_train)\n",
    "    pred=clf_dt.predict_proba(features_test)\n",
    "\n",
    "    print ('log_loss score for Decision Tree with no parameter tuning:', log_loss(labels_test, pred))\n",
    "    return clf_dt\n",
    "\n",
    "dt_(X_train, y_train, X_test, y_test)    "
   ]
  },
  {
   "cell_type": "code",
   "execution_count": 156,
   "metadata": {},
   "outputs": [
    {
     "name": "stdout",
     "output_type": "stream",
     "text": [
      "log_loss score for KNN with no parameter tuning: 1.49374139185\n"
     ]
    },
    {
     "data": {
      "text/plain": [
       "KNeighborsClassifier(algorithm='auto', leaf_size=30, metric='minkowski',\n",
       "           metric_params=None, n_jobs=1, n_neighbors=5, p=2,\n",
       "           weights='uniform')"
      ]
     },
     "execution_count": 156,
     "metadata": {},
     "output_type": "execute_result"
    }
   ],
   "source": [
    "def knn_(features_train,labels_train, features_test, labels_test):\n",
    "    \n",
    "    clf_knn = KNeighborsClassifier() \n",
    "    clf_knn.fit(features_train, labels_train)\n",
    "    pred=clf_knn.predict_proba(features_test)\n",
    "\n",
    "    print ('log_loss score for KNN with no parameter tuning:', log_loss(labels_test, pred))\n",
    "    return clf_knn\n",
    "\n",
    "knn_(X_train, y_train, X_test, y_test)  "
   ]
  },
  {
   "cell_type": "code",
   "execution_count": 157,
   "metadata": {},
   "outputs": [
    {
     "name": "stdout",
     "output_type": "stream",
     "text": [
      "log_loss score for Logistic Regression with no parameter tuning: 0.386023013218\n"
     ]
    },
    {
     "data": {
      "text/plain": [
       "LogisticRegression(C=1.0, class_weight=None, dual=False, fit_intercept=True,\n",
       "          intercept_scaling=1, max_iter=100, multi_class='ovr', n_jobs=1,\n",
       "          penalty='l2', random_state=11, solver='liblinear', tol=0.0001,\n",
       "          verbose=0, warm_start=False)"
      ]
     },
     "execution_count": 157,
     "metadata": {},
     "output_type": "execute_result"
    }
   ],
   "source": [
    "def lr_(features_train,labels_train, features_test, labels_test):\n",
    "    \n",
    "    clf_lr = LogisticRegression(random_state=11) \n",
    "    clf_lr.fit(features_train, labels_train)\n",
    "    pred=clf_lr.predict_proba(features_test)\n",
    "\n",
    "    print ('log_loss score for Logistic Regression with no parameter tuning:', log_loss(labels_test, pred))\n",
    "    return clf_lr\n",
    "    \n",
    "lr_(X_train, y_train, X_test, y_test)  "
   ]
  },
  {
   "cell_type": "markdown",
   "metadata": {},
   "source": [
    "So far, the best score comes from Logistic Regression at 0.394\n"
   ]
  },
  {
   "cell_type": "code",
   "execution_count": 158,
   "metadata": {},
   "outputs": [
    {
     "name": "stdout",
     "output_type": "stream",
     "text": [
      "log_loss score for Adaboost with no parameter tuning: 0.631100817803\n"
     ]
    },
    {
     "data": {
      "text/plain": [
       "AdaBoostClassifier(algorithm='SAMME.R', base_estimator=None,\n",
       "          learning_rate=1.0, n_estimators=50, random_state=None)"
      ]
     },
     "execution_count": 158,
     "metadata": {},
     "output_type": "execute_result"
    }
   ],
   "source": [
    "def adb_(features_train,labels_train, features_test, labels_test):\n",
    "    \n",
    "    clf_adb = AdaBoostClassifier()\n",
    "    clf_adb.fit(features_train, labels_train)\n",
    "    pred=clf_adb.predict_proba(features_test)\n",
    "\n",
    "    print ('log_loss score for Adaboost with no parameter tuning:', log_loss(labels_test, pred))\n",
    "    return clf_adb\n",
    "\n",
    "adb_(X_train, y_train, X_test, y_test)  "
   ]
  },
  {
   "cell_type": "code",
   "execution_count": 159,
   "metadata": {},
   "outputs": [
    {
     "name": "stdout",
     "output_type": "stream",
     "text": [
      "log_loss score for Voting Classifier with no parameter tuning: 0.452652758363\n"
     ]
    },
    {
     "data": {
      "text/plain": [
       "VotingClassifier(estimators=[('lr', LogisticRegression(C=1.0, class_weight=None, dual=False, fit_intercept=True,\n",
       "          intercept_scaling=1, max_iter=100, multi_class='ovr', n_jobs=1,\n",
       "          penalty='l2', random_state=11, solver='liblinear', tol=0.0001,\n",
       "          verbose=0, warm_start=False)), ('knn', KNeighbo...m='SAMME.R', base_estimator=None,\n",
       "          learning_rate=1.0, n_estimators=50, random_state=None))],\n",
       "         flatten_transform=None, n_jobs=1, voting='soft', weights=None)"
      ]
     },
     "execution_count": 159,
     "metadata": {},
     "output_type": "execute_result"
    }
   ],
   "source": [
    "\n",
    "def stack(features_train,labels_train, features_test, labels_test):\n",
    "    lr = LogisticRegression(random_state=11) \n",
    "    knn = KNeighborsClassifier() \n",
    "    adb= AdaBoostClassifier()\n",
    "\n",
    "\n",
    "    eclf1 = VotingClassifier(estimators=[('lr', lr), ('knn', knn), ('adb', adb)], voting='soft')\n",
    "    eclf1 = eclf1.fit(features_train, labels_train)\n",
    "\n",
    "    pred=eclf1.predict_proba(features_test)\n",
    "\n",
    "\n",
    "    print ('log_loss score for Voting Classifier with no parameter tuning:', log_loss(labels_test, pred))\n",
    "    return eclf1\n",
    "\n",
    "eclf=stack(X_train, y_train, X_test, y_test)\n",
    "eclf"
   ]
  },
  {
   "cell_type": "markdown",
   "metadata": {},
   "source": [
    "### Base results for all the classifiers\n",
    "\n",
    "Log-loss base score for all the classifiers as below:-\n",
    "\n",
    "* Decision Tree: 9.210\n",
    "* K-Nearest Neighbors: 1.494\n",
    "* Logistic Regression: 0.386\n",
    "* Adaboost:  0.631\n",
    "* Stacking: 0.453\n",
    "\n",
    "Amongst them, Logistic Regression and Stacking algorith performs better than the benchmark of 0.5381. The benchmark is also using Logistic Regression, so it is surprising how this model could perform better than the benckmark although they are using the same algorithm."
   ]
  },
  {
   "cell_type": "markdown",
   "metadata": {},
   "source": [
    "### Parameters tuning"
   ]
  },
  {
   "cell_type": "markdown",
   "metadata": {},
   "source": [
    "GridSearchCV is being used to tune the parameters for these classifiers. The stacking method in this section also combined the classifiers with the best possible parameters. "
   ]
  },
  {
   "cell_type": "code",
   "execution_count": 160,
   "metadata": {
    "collapsed": true
   },
   "outputs": [],
   "source": [
    "#Parameters tuning with GridSearch CV\n",
    "from sklearn.metrics import make_scorer\n",
    "from sklearn.model_selection import GridSearchCV\n",
    "\n",
    "\n",
    "def get_bestclf( features_train, labels_train, clf, parameters):\n",
    "    grid_obj = GridSearchCV(clf, scoring= make_scorer(log_loss), param_grid=parameters)\n",
    "    grid_fit = grid_obj.fit(features_train, labels_train)\n",
    "    best_clf = grid_fit.best_estimator_\n",
    "    return best_clf"
   ]
  },
  {
   "cell_type": "code",
   "execution_count": 161,
   "metadata": {},
   "outputs": [
    {
     "name": "stdout",
     "output_type": "stream",
     "text": [
      "Score for Decision Tree after Parameters tuning: 8.8541862637\n"
     ]
    }
   ],
   "source": [
    "\n",
    "# Below is the Decision Tree after parameters tuning\n",
    "\n",
    "def best_DT(features_train,labels_train, features_test, labels_test):\n",
    "    best_DT= get_bestclf(features_train,labels_train, DecisionTreeClassifier(), parameters = {'criterion':['gini', 'entropy'], \n",
    "                                                                 'max_depth': [None, 2, 3, 4, 5]})\n",
    "    best_predictions = best_DT.predict_proba(features_test)\n",
    "    print ('Score for Decision Tree after Parameters tuning:', log_loss(labels_test, best_predictions))\n",
    "    return best_DT\n",
    "    \n",
    "clf_best_DT=best_DT(X_train, y_train, X_test, y_test)"
   ]
  },
  {
   "cell_type": "code",
   "execution_count": 162,
   "metadata": {},
   "outputs": [
    {
     "name": "stdout",
     "output_type": "stream",
     "text": [
      "Score for KNN after Parameters tuning: 4.04305507494\n"
     ]
    },
    {
     "data": {
      "text/plain": [
       "KNeighborsClassifier(algorithm='auto', leaf_size=30, metric='minkowski',\n",
       "           metric_params=None, n_jobs=1, n_neighbors=2, p=2,\n",
       "           weights='distance')"
      ]
     },
     "execution_count": 162,
     "metadata": {},
     "output_type": "execute_result"
    }
   ],
   "source": [
    "# Parameters tuning for KNN\n",
    "\n",
    "def best_KNN(features_train,labels_train, features_test, labels_test):\n",
    "    best_KNN= get_bestclf(features_train,labels_train, KNeighborsClassifier(), \n",
    "                          parameters = {'n_neighbors':[2,4,5,6,8], 'weights': ['uniform', 'distance'],\n",
    "                                        'algorithm': ['auto', 'ball_tree', 'kd_tree', 'brute']})\n",
    "    best_predictions = best_KNN.predict_proba(features_test)\n",
    "    print ('Score for KNN after Parameters tuning:', log_loss(labels_test, best_predictions))\n",
    "    return best_KNN\n",
    "    \n",
    "clf_best_KNN=best_KNN(X_train, y_train, X_test, y_test)\n",
    "clf_best_KNN"
   ]
  },
  {
   "cell_type": "code",
   "execution_count": 163,
   "metadata": {},
   "outputs": [
    {
     "name": "stdout",
     "output_type": "stream",
     "text": [
      "Score for Logistic Regression after Parameters tuning: 0.438065238555\n"
     ]
    },
    {
     "data": {
      "text/plain": [
       "LogisticRegression(C=0.5, class_weight=None, dual=False, fit_intercept=True,\n",
       "          intercept_scaling=1, max_iter=100, multi_class='ovr', n_jobs=1,\n",
       "          penalty='l2', random_state=11, solver='liblinear', tol=1.0,\n",
       "          verbose=0, warm_start=False)"
      ]
     },
     "execution_count": 163,
     "metadata": {},
     "output_type": "execute_result"
    }
   ],
   "source": [
    "#Parameters tuning for Logistic Regression\n",
    "\n",
    "def best_lr(features_train,labels_train, features_test, labels_test):\n",
    "    best_lr= get_bestclf(features_train,labels_train, LogisticRegression(random_state=11),\n",
    "                         parameters = {'C':[0.1, 0.5, 1.0, 1.5, 2.0], 'tol': [0.1, 0.01, 1.0, 0.5],'solver': ['liblinear']})\n",
    "    best_predictions = best_lr.predict_proba(features_test)\n",
    "    print ('Score for Logistic Regression after Parameters tuning:', log_loss(labels_test, best_predictions))\n",
    "    return best_lr\n",
    "\n",
    "clf_best_lr=best_lr(X_train, y_train, X_test, y_test)\n",
    "clf_best_lr"
   ]
  },
  {
   "cell_type": "code",
   "execution_count": 164,
   "metadata": {},
   "outputs": [
    {
     "name": "stdout",
     "output_type": "stream",
     "text": [
      "Score for AdaBoost after Parameters tuning: 0.691568923966\n"
     ]
    },
    {
     "data": {
      "text/plain": [
       "AdaBoostClassifier(algorithm='SAMME', base_estimator=None, learning_rate=2.0,\n",
       "          n_estimators=10, random_state=None)"
      ]
     },
     "execution_count": 164,
     "metadata": {},
     "output_type": "execute_result"
    }
   ],
   "source": [
    "# Parameters tuning for Adaboost\n",
    "\n",
    "def best_adb(features_train,labels_train, features_test, labels_test):\n",
    "    best_adb= get_bestclf(features_train,labels_train, AdaBoostClassifier(), \n",
    "                          parameters = {'n_estimators': [10, 50, 100, 250, 500, 1000], \n",
    "                                        'learning_rate': [0.001, 0.1,1, 2.0], 'algorithm': ['SAMME', 'SAMME.R']})\n",
    "    best_predictions = best_adb.predict_proba(features_test)\n",
    "    print ('Score for AdaBoost after Parameters tuning:', log_loss(labels_test, best_predictions))\n",
    "    return best_adb\n",
    "\n",
    "clf_best_adb=best_adb(X_train, y_train, X_test, y_test)\n",
    "clf_best_adb"
   ]
  },
  {
   "cell_type": "code",
   "execution_count": 165,
   "metadata": {},
   "outputs": [
    {
     "name": "stdout",
     "output_type": "stream",
     "text": [
      "Score for Best Stacking after Parameters tuning: 0.48939256734\n"
     ]
    },
    {
     "data": {
      "text/plain": [
       "VotingClassifier(estimators=[('best_lr', LogisticRegression(C=0.5, class_weight=None, dual=False, fit_intercept=True,\n",
       "          intercept_scaling=1, max_iter=100, multi_class='ovr', n_jobs=1,\n",
       "          penalty='l2', random_state=11, solver='liblinear', tol=1.0,\n",
       "          verbose=0, warm_start=False)), ('best_knn', K...thm='SAMME', base_estimator=None, learning_rate=2.0,\n",
       "          n_estimators=10, random_state=None))],\n",
       "         flatten_transform=None, n_jobs=1, voting='soft', weights=None)"
      ]
     },
     "execution_count": 165,
     "metadata": {},
     "output_type": "execute_result"
    }
   ],
   "source": [
    "# stacking parameters\n",
    "\n",
    "#eclf_best = VotingClassifier(estimators=[\n",
    "#         ('best_lr', best_lr), ('best_adb', best_adb), ('best_KNN', best_KNN), ('best_DT', best_DT)], voting='soft')\n",
    "\n",
    "def best_stack(features_train,labels_train, features_test, labels_test):\n",
    "    eclf_best = VotingClassifier(estimators=\n",
    "                                 [('best_lr', clf_best_lr), ('best_knn', clf_best_KNN), ('adb', clf_best_adb)], voting='soft')\n",
    "\n",
    "    best_stack = eclf_best.fit(features_train, labels_train)\n",
    "\n",
    "    best_predictions=best_stack.predict_proba(features_test)\n",
    "    print ('Score for Best Stacking after Parameters tuning:', log_loss(labels_test, best_predictions))\n",
    "    return best_stack\n",
    "\n",
    "best_stack(X_train, y_train, X_test, y_test)"
   ]
  },
  {
   "cell_type": "markdown",
   "metadata": {},
   "source": [
    "Log-loss score after parameters tuning for all the classifiers as below:-\n",
    "\n",
    "* Decision Tree: 8.854\n",
    "* K-Nearest Neighbors: 4.043\n",
    "* Logistic Regression: 0.438\n",
    "* Adaboost:  0.692\n",
    "* Stacking: 0.489\n",
    "\n",
    "It seems the algorithm performed worse when GridSearchCV is applied, except Decision Tree"
   ]
  },
  {
   "cell_type": "markdown",
   "metadata": {},
   "source": [
    "## Feature Selection with RFE model"
   ]
  },
  {
   "cell_type": "markdown",
   "metadata": {},
   "source": [
    "For Feature Selection, we are using the RFE model. RFE stands for Recursive feature elimination is where the algorithm trying to asses all the features and eliminate them one by one until the best set of features survive. In this project, we set the best features to five. "
   ]
  },
  {
   "cell_type": "code",
   "execution_count": 166,
   "metadata": {
    "collapsed": true
   },
   "outputs": [],
   "source": [
    "from sklearn.feature_selection import RFE\n",
    "\n",
    "model_lr=LogisticRegression(random_state=11)\n",
    "rfe = RFE(model_lr, 5)\n",
    "fit = rfe.fit(X_train, y_train)\n",
    "\n",
    "col_list=[]\n",
    "    \n",
    "for bool, feature in zip(fit.support_, train_values_final.columns):\n",
    "    if bool:\n",
    "        col_list.append(feature)\n",
    "\n",
    "#print (col_list)"
   ]
  },
  {
   "cell_type": "code",
   "execution_count": 167,
   "metadata": {
    "collapsed": true
   },
   "outputs": [],
   "source": [
    "reduced_features_trains = train_values_final[col_list]\n",
    "reduced_features_test = test_values_final[col_list]"
   ]
  },
  {
   "cell_type": "code",
   "execution_count": 168,
   "metadata": {
    "collapsed": true
   },
   "outputs": [],
   "source": [
    "# minmax scaler again\n",
    "features_train_reduced, features_test_reduced=scaling (reduced_features_trains,reduced_features_test )"
   ]
  },
  {
   "cell_type": "code",
   "execution_count": 169,
   "metadata": {
    "collapsed": true
   },
   "outputs": [],
   "source": [
    "# StratifiedKfold again\n",
    "\n",
    "X_train_reduced, X_test_reduced, y_train_reduced,y_test_reduced = stratified_kf(features_train_reduced, train_labels)"
   ]
  },
  {
   "cell_type": "code",
   "execution_count": 170,
   "metadata": {},
   "outputs": [
    {
     "name": "stdout",
     "output_type": "stream",
     "text": [
      "log_loss score for Decision Tree with no parameter tuning: 8.82657618981\n"
     ]
    },
    {
     "data": {
      "text/plain": [
       "DecisionTreeClassifier(class_weight=None, criterion='gini', max_depth=None,\n",
       "            max_features=None, max_leaf_nodes=None,\n",
       "            min_impurity_decrease=0.0, min_impurity_split=None,\n",
       "            min_samples_leaf=1, min_samples_split=2,\n",
       "            min_weight_fraction_leaf=0.0, presort=False, random_state=None,\n",
       "            splitter='best')"
      ]
     },
     "execution_count": 170,
     "metadata": {},
     "output_type": "execute_result"
    }
   ],
   "source": [
    "#dt with reduced data\n",
    "\n",
    "dt_(X_train_reduced,y_train_reduced, X_test_reduced, y_test_reduced)"
   ]
  },
  {
   "cell_type": "code",
   "execution_count": 171,
   "metadata": {},
   "outputs": [
    {
     "name": "stdout",
     "output_type": "stream",
     "text": [
      "log_loss score for KNN with no parameter tuning: 2.55962027839\n"
     ]
    },
    {
     "data": {
      "text/plain": [
       "KNeighborsClassifier(algorithm='auto', leaf_size=30, metric='minkowski',\n",
       "           metric_params=None, n_jobs=1, n_neighbors=5, p=2,\n",
       "           weights='uniform')"
      ]
     },
     "execution_count": 171,
     "metadata": {},
     "output_type": "execute_result"
    }
   ],
   "source": [
    "#knn with reduced data\n",
    "\n",
    "knn_(X_train_reduced,y_train_reduced, X_test_reduced, y_test_reduced) "
   ]
  },
  {
   "cell_type": "code",
   "execution_count": 172,
   "metadata": {},
   "outputs": [
    {
     "name": "stdout",
     "output_type": "stream",
     "text": [
      "log_loss score for Logistic Regression with no parameter tuning: 0.421868394977\n"
     ]
    },
    {
     "data": {
      "text/plain": [
       "LogisticRegression(C=1.0, class_weight=None, dual=False, fit_intercept=True,\n",
       "          intercept_scaling=1, max_iter=100, multi_class='ovr', n_jobs=1,\n",
       "          penalty='l2', random_state=11, solver='liblinear', tol=0.0001,\n",
       "          verbose=0, warm_start=False)"
      ]
     },
     "execution_count": 172,
     "metadata": {},
     "output_type": "execute_result"
    }
   ],
   "source": [
    "#logisticregression with reduced data\n",
    "\n",
    "lr_(X_train_reduced,y_train_reduced, X_test_reduced, y_test_reduced)"
   ]
  },
  {
   "cell_type": "code",
   "execution_count": 173,
   "metadata": {},
   "outputs": [
    {
     "name": "stdout",
     "output_type": "stream",
     "text": [
      "log_loss score for Adaboost with no parameter tuning: 0.648423268245\n"
     ]
    },
    {
     "data": {
      "text/plain": [
       "AdaBoostClassifier(algorithm='SAMME.R', base_estimator=None,\n",
       "          learning_rate=1.0, n_estimators=50, random_state=None)"
      ]
     },
     "execution_count": 173,
     "metadata": {},
     "output_type": "execute_result"
    }
   ],
   "source": [
    "adb_(X_train_reduced,y_train_reduced, X_test_reduced, y_test_reduced)"
   ]
  },
  {
   "cell_type": "code",
   "execution_count": 174,
   "metadata": {},
   "outputs": [
    {
     "name": "stdout",
     "output_type": "stream",
     "text": [
      "log_loss score for Voting Classifier with no parameter tuning: 0.463842134501\n"
     ]
    },
    {
     "data": {
      "text/plain": [
       "VotingClassifier(estimators=[('lr', LogisticRegression(C=1.0, class_weight=None, dual=False, fit_intercept=True,\n",
       "          intercept_scaling=1, max_iter=100, multi_class='ovr', n_jobs=1,\n",
       "          penalty='l2', random_state=11, solver='liblinear', tol=0.0001,\n",
       "          verbose=0, warm_start=False)), ('knn', KNeighbo...m='SAMME.R', base_estimator=None,\n",
       "          learning_rate=1.0, n_estimators=50, random_state=None))],\n",
       "         flatten_transform=None, n_jobs=1, voting='soft', weights=None)"
      ]
     },
     "execution_count": 174,
     "metadata": {},
     "output_type": "execute_result"
    }
   ],
   "source": [
    "#Stacking with reduced data\n",
    "\n",
    "stack(X_train_reduced,y_train_reduced, X_test_reduced, y_test_reduced)"
   ]
  },
  {
   "cell_type": "markdown",
   "metadata": {},
   "source": [
    "Log-loss score after we selected the best 5 features all the classifiers as below:-\n",
    "\n",
    "* Decision Tree: 8.826\n",
    "* K-Nearest Neighbors: 2.56\n",
    "* Logistic Regression: 0.422\n",
    "* Adaboost:  0.648\n",
    "* Stacking: 0.464\n",
    "\n",
    "None of these algorithms performed better than the default classifiers."
   ]
  },
  {
   "cell_type": "markdown",
   "metadata": {},
   "source": [
    "### Reduced features with parameters tuning\n"
   ]
  },
  {
   "cell_type": "code",
   "execution_count": 175,
   "metadata": {},
   "outputs": [
    {
     "name": "stdout",
     "output_type": "stream",
     "text": [
      "Score for Decision Tree after Parameters tuning: 8.05904782548\n"
     ]
    },
    {
     "data": {
      "text/plain": [
       "DecisionTreeClassifier(class_weight=None, criterion='entropy', max_depth=None,\n",
       "            max_features=None, max_leaf_nodes=None,\n",
       "            min_impurity_decrease=0.0, min_impurity_split=None,\n",
       "            min_samples_leaf=1, min_samples_split=2,\n",
       "            min_weight_fraction_leaf=0.0, presort=False, random_state=None,\n",
       "            splitter='best')"
      ]
     },
     "execution_count": 175,
     "metadata": {},
     "output_type": "execute_result"
    }
   ],
   "source": [
    "best_DT(X_train_reduced,y_train_reduced, X_test_reduced, y_test_reduced)"
   ]
  },
  {
   "cell_type": "code",
   "execution_count": 176,
   "metadata": {},
   "outputs": [
    {
     "name": "stdout",
     "output_type": "stream",
     "text": [
      "Score for KNN after Parameters tuning: 2.54938519101\n"
     ]
    },
    {
     "data": {
      "text/plain": [
       "KNeighborsClassifier(algorithm='auto', leaf_size=30, metric='minkowski',\n",
       "           metric_params=None, n_jobs=1, n_neighbors=4, p=2,\n",
       "           weights='distance')"
      ]
     },
     "execution_count": 176,
     "metadata": {},
     "output_type": "execute_result"
    }
   ],
   "source": [
    "# Best_KNN with reduced data\n",
    "\n",
    "best_KNN(X_train_reduced,y_train_reduced, X_test_reduced, y_test_reduced)"
   ]
  },
  {
   "cell_type": "code",
   "execution_count": 177,
   "metadata": {},
   "outputs": [
    {
     "name": "stdout",
     "output_type": "stream",
     "text": [
      "Score for Logistic Regression after Parameters tuning: 0.551880696196\n"
     ]
    },
    {
     "data": {
      "text/plain": [
       "LogisticRegression(C=0.1, class_weight=None, dual=False, fit_intercept=True,\n",
       "          intercept_scaling=1, max_iter=100, multi_class='ovr', n_jobs=1,\n",
       "          penalty='l2', random_state=11, solver='liblinear', tol=1.0,\n",
       "          verbose=0, warm_start=False)"
      ]
     },
     "execution_count": 177,
     "metadata": {},
     "output_type": "execute_result"
    }
   ],
   "source": [
    "#Best LR with reduced dta\n",
    "\n",
    "best_lr(X_train_reduced,y_train_reduced, X_test_reduced, y_test_reduced)"
   ]
  },
  {
   "cell_type": "code",
   "execution_count": 178,
   "metadata": {},
   "outputs": [
    {
     "name": "stdout",
     "output_type": "stream",
     "text": [
      "Score for AdaBoost after Parameters tuning: 0.691568923966\n"
     ]
    },
    {
     "data": {
      "text/plain": [
       "AdaBoostClassifier(algorithm='SAMME', base_estimator=None, learning_rate=2.0,\n",
       "          n_estimators=10, random_state=None)"
      ]
     },
     "execution_count": 178,
     "metadata": {},
     "output_type": "execute_result"
    }
   ],
   "source": [
    "#Best adaboost with reduced dta\n",
    "\n",
    "best_adb(X_train_reduced,y_train_reduced, X_test_reduced, y_test_reduced)"
   ]
  },
  {
   "cell_type": "code",
   "execution_count": 179,
   "metadata": {},
   "outputs": [
    {
     "name": "stdout",
     "output_type": "stream",
     "text": [
      "Score for Best Stacking after Parameters tuning: 0.486052401011\n"
     ]
    },
    {
     "data": {
      "text/plain": [
       "VotingClassifier(estimators=[('best_lr', LogisticRegression(C=0.5, class_weight=None, dual=False, fit_intercept=True,\n",
       "          intercept_scaling=1, max_iter=100, multi_class='ovr', n_jobs=1,\n",
       "          penalty='l2', random_state=11, solver='liblinear', tol=1.0,\n",
       "          verbose=0, warm_start=False)), ('best_knn', K...thm='SAMME', base_estimator=None, learning_rate=2.0,\n",
       "          n_estimators=10, random_state=None))],\n",
       "         flatten_transform=None, n_jobs=1, voting='soft', weights=None)"
      ]
     },
     "execution_count": 179,
     "metadata": {},
     "output_type": "execute_result"
    }
   ],
   "source": [
    "# stacking with reduced data\n",
    "\n",
    "best_stack(X_train_reduced,y_train_reduced, X_test_reduced, y_test_reduced)"
   ]
  },
  {
   "cell_type": "markdown",
   "metadata": {},
   "source": [
    "Log-loss score after we selected the best 5 features and applied paramaters tuning for all the classifiers as below:-\n",
    "\n",
    "* Decision Tree: 8.06\n",
    "* K-Nearest Neighbors: 2.549\n",
    "* Logistic Regression: 0.552\n",
    "* Adaboost:  0.692\n",
    "* Stacking: 0.486"
   ]
  },
  {
   "cell_type": "markdown",
   "metadata": {},
   "source": [
    "## Results compilations:-"
   ]
  },
  {
   "cell_type": "markdown",
   "metadata": {},
   "source": [
    "Below are the results for all the features:-\n",
    "\n",
    "No Features Selections:-\n",
    "\n",
    "| Classifier          | Default Parameter  | Parameters Tuning |\n",
    "|---------------------|--------------------|-------------------|\n",
    "| Decision Tree       | 9.210              | 8.854             | \n",
    "|---------------------|--------------------|-------------------|\n",
    "| K-Nearest Neighbour | 1.494              | 4.043             |\n",
    "|---------------------|--------------------|-------------------|\n",
    "| Logistic Regression | 0.386              | 0.438             |\n",
    "|---------------------|--------------------|-------------------|\n",
    "| Adaboost            | 0.631              | 0.692             |\n",
    "|---------------------|--------------------|-------------------|\n",
    "| Stacking            | 0.453              | 0.489             |"
   ]
  },
  {
   "cell_type": "markdown",
   "metadata": {},
   "source": [
    "Below are the results when we reduced the features using RFE model. \n",
    "\n",
    "With Features Selections:-\n",
    "\n",
    "| Classifier          | Default Parameter  | Parameters Tuning |\n",
    "|---------------------|--------------------|-------------------|\n",
    "| Decision Tree       | 8.826              | 8.06              | \n",
    "|---------------------|--------------------|-------------------|\n",
    "| K-Nearest Neighbour | 2.56               | 2.549             |\n",
    "|---------------------|--------------------|-------------------|\n",
    "| Logistic Regression | 0.422              | 0.552             |\n",
    "|---------------------|--------------------|-------------------|\n",
    "| Adaboost            | 0.648              | 0.692             |\n",
    "|---------------------|--------------------|-------------------|\n",
    "| Stacking            | 0.464              | 0.486             |"
   ]
  },
  {
   "cell_type": "markdown",
   "metadata": {},
   "source": [
    "The best performance comes from the standard Logistic Regression model. The log-loss score is 0.386."
   ]
  },
  {
   "cell_type": "markdown",
   "metadata": {},
   "source": [
    "### Confusion Matrix"
   ]
  },
  {
   "cell_type": "code",
   "execution_count": 180,
   "metadata": {
    "collapsed": true
   },
   "outputs": [],
   "source": [
    "#trying to check my y_predict and y_actual\n",
    "\n",
    "def get_pred(features_train,labels_train, features_test, labels_test):\n",
    "    chosen_clf=lr_(features_train,labels_train, features_test, labels_test)\n",
    "    #print (chosen_clf)\n",
    "    best_predictions=chosen_clf.predict_proba(features_test)\n",
    "    #print (best_predictions)\n",
    "    return best_predictions"
   ]
  },
  {
   "cell_type": "code",
   "execution_count": 181,
   "metadata": {},
   "outputs": [
    {
     "name": "stdout",
     "output_type": "stream",
     "text": [
      "log_loss score for Logistic Regression with no parameter tuning: 0.386023013218\n"
     ]
    }
   ],
   "source": [
    "#put all the predictions in an array\n",
    "\n",
    "y_pred= get_pred(X_train, y_train, X_test, y_test)\n",
    "\n",
    "y_predicts=[]\n",
    "\n",
    "#print (y_pred)\n",
    "for pred in y_pred:\n",
    "    #print (pred)\n",
    "    for proba in pred:\n",
    "        #round the \n",
    "        y_predicts.append(round(proba))\n"
   ]
  },
  {
   "cell_type": "code",
   "execution_count": 182,
   "metadata": {
    "collapsed": true
   },
   "outputs": [],
   "source": [
    "# put the labels values in an array\n",
    "y_true=[]\n",
    "\n",
    "for true in train_labels.values:\n",
    "    for j in true:\n",
    "        y_true.append(j)\n"
   ]
  },
  {
   "cell_type": "code",
   "execution_count": 183,
   "metadata": {},
   "outputs": [
    {
     "name": "stdout",
     "output_type": "stream",
     "text": [
      "[[47 53]\n",
      " [43 37]]\n"
     ]
    }
   ],
   "source": [
    "# confusion matrix. \n",
    "from sklearn.metrics import confusion_matrix\n",
    "\n",
    "array_cm=confusion_matrix(y_true, y_predicts)\n",
    "print (array_cm)"
   ]
  },
  {
   "cell_type": "code",
   "execution_count": 184,
   "metadata": {},
   "outputs": [
    {
     "data": {
      "image/png": "[encoded data removed]",
      "text/plain": [
       "<matplotlib.figure.Figure at 0xd2bafd0>"
      ]
     },
     "metadata": {},
     "output_type": "display_data"
    }
   ],
   "source": [
    "#plotting the confusion matrix using seaborn\n",
    "\n",
    "df_cm = pd.DataFrame(array_cm, range(2),\n",
    "                  range(2))\n",
    "plt.title(\"Confusion Matrix in Predicting Heart Disease\")\n",
    "\n",
    "sns.set(font_scale=1.4)#for label size\n",
    "sns.heatmap(df_cm, annot=True,annot_kws={\"size\": 16})# font size\n",
    "\n",
    "plt.show()\n"
   ]
  },
  {
   "cell_type": "markdown",
   "metadata": {},
   "source": [
    "* 0: Heart disease is not present\n",
    "* 1: Heart disease present"
   ]
  },
  {
   "cell_type": "markdown",
   "metadata": {},
   "source": [
    "The explanation on confusion matrix:-\n",
    "\n",
    "* 47 true positive prediction, aka, predicted with no heart disease, and they actually has no heart disease\n",
    "* 37 true negative prediction, aka, predicted with heart disease, and they actually have no heart disease\n",
    "* 53 false positive prediction, aka, we predicted they have a heart disease, but actually, they don't.\n",
    "* 43 false negative prediction, where we predict they don't have a heart disease, but actually, they do. \n"
   ]
  },
  {
   "cell_type": "markdown",
   "metadata": {},
   "source": [
    "Based on the confusion matrix above, it does look like the model is performing pretty badly. However, it may be affected because you need to round up the probability from log-loss score. "
   ]
  },
  {
   "cell_type": "markdown",
   "metadata": {},
   "source": [
    "### Writing the submission.csv"
   ]
  },
  {
   "cell_type": "markdown",
   "metadata": {},
   "source": [
    "The original submission.csv is filled with 0.5 as a baseline. We will then write the predictions into these file. The new file will then be submitted to the Machine Learning with a Heart Competition hosted by drivendata. They will process the submission and give the score. \n",
    "\n",
    "[drivendata competition](https://www.drivendata.org/competitions/54/machine-learning-with-a-heart/)"
   ]
  },
  {
   "cell_type": "code",
   "execution_count": 185,
   "metadata": {
    "collapsed": true
   },
   "outputs": [],
   "source": [
    "submission_format = pd.read_csv('submission_format.csv', index_col='patient_id')"
   ]
  },
  {
   "cell_type": "code",
   "execution_count": 186,
   "metadata": {
    "collapsed": true
   },
   "outputs": [],
   "source": [
    "predictions=eclf.predict_proba(features_test)[:, 1]"
   ]
  },
  {
   "cell_type": "code",
   "execution_count": 187,
   "metadata": {
    "collapsed": true
   },
   "outputs": [],
   "source": [
    "my_submission = pd.DataFrame(data=predictions,\n",
    "                             columns=submission_format.columns,\n",
    "                             index=submission_format.index)"
   ]
  },
  {
   "cell_type": "code",
   "execution_count": 188,
   "metadata": {},
   "outputs": [
    {
     "data": {
      "text/html": [
       "<div>\n",
       "<style>\n",
       "    .dataframe thead tr:only-child th {\n",
       "        text-align: right;\n",
       "    }\n",
       "\n",
       "    .dataframe thead th {\n",
       "        text-align: left;\n",
       "    }\n",
       "\n",
       "    .dataframe tbody tr th {\n",
       "        vertical-align: top;\n",
       "    }\n",
       "</style>\n",
       "<table border=\"1\" class=\"dataframe\">\n",
       "  <thead>\n",
       "    <tr style=\"text-align: right;\">\n",
       "      <th></th>\n",
       "      <th>heart_disease_present</th>\n",
       "    </tr>\n",
       "    <tr>\n",
       "      <th>patient_id</th>\n",
       "      <th></th>\n",
       "    </tr>\n",
       "  </thead>\n",
       "  <tbody>\n",
       "    <tr>\n",
       "      <th>olalu7</th>\n",
       "      <td>0.397112</td>\n",
       "    </tr>\n",
       "    <tr>\n",
       "      <th>z9n6mx</th>\n",
       "      <td>0.187949</td>\n",
       "    </tr>\n",
       "    <tr>\n",
       "      <th>5k4413</th>\n",
       "      <td>0.796234</td>\n",
       "    </tr>\n",
       "    <tr>\n",
       "      <th>mrg7q5</th>\n",
       "      <td>0.136509</td>\n",
       "    </tr>\n",
       "    <tr>\n",
       "      <th>uki4do</th>\n",
       "      <td>0.777290</td>\n",
       "    </tr>\n",
       "  </tbody>\n",
       "</table>\n",
       "</div>"
      ],
      "text/plain": [
       "            heart_disease_present\n",
       "patient_id                       \n",
       "olalu7                   0.397112\n",
       "z9n6mx                   0.187949\n",
       "5k4413                   0.796234\n",
       "mrg7q5                   0.136509\n",
       "uki4do                   0.777290"
      ]
     },
     "execution_count": 188,
     "metadata": {},
     "output_type": "execute_result"
    }
   ],
   "source": [
    "my_submission.head()"
   ]
  },
  {
   "cell_type": "code",
   "execution_count": 189,
   "metadata": {
    "collapsed": true
   },
   "outputs": [],
   "source": [
    "#write the result to submission.csv\n",
    "\n",
    "my_submission.to_csv('submission.csv')"
   ]
  },
  {
   "cell_type": "markdown",
   "metadata": {},
   "source": [
    "The file has been submitted and my score is 0.4387"
   ]
  },
  {
   "cell_type": "markdown",
   "metadata": {},
   "source": [
    "## Conclusion:-"
   ]
  },
  {
   "cell_type": "markdown",
   "metadata": {
    "collapsed": true
   },
   "source": [
    "Even though the score has exceeded the benchmarks, there's a few improvements on the model that can be done. There are:-\n",
    "\n",
    "* More data so that the algorithm can predict better.\n",
    "* Better feature engineering. A new feature created by the heart specialist. \n",
    "* Local data for local adaptation. Data used is gathered by the local sources. "
   ]
  }
 ],
 "metadata": {
  "kernelspec": {
   "display_name": "Python 3",
   "language": "python",
   "name": "python3"
  },
  "language_info": {
   "codemirror_mode": {
    "name": "ipython",
    "version": 3
   },
   "file_extension": ".py",
   "mimetype": "text/x-python",
   "name": "python",
   "nbconvert_exporter": "python",
   "pygments_lexer": "ipython3",
   "version": "3.6.4"
  }
 },
 "nbformat": 4,
 "nbformat_minor": 2
}
